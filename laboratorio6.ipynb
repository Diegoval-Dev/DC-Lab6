{
 "cells": [
  {
   "cell_type": "code",
   "execution_count": 30,
   "id": "08f04c96",
   "metadata": {},
   "outputs": [
    {
     "name": "stderr",
     "output_type": "stream",
     "text": [
      "[nltk_data] Downloading package stopwords to /Users/gerco/nltk_data...\n",
      "[nltk_data]   Package stopwords is already up-to-date!\n"
     ]
    },
    {
     "data": {
      "text/plain": [
       "True"
      ]
     },
     "execution_count": 30,
     "metadata": {},
     "output_type": "execute_result"
    }
   ],
   "source": [
    "import nltk\n",
    "nltk.download('stopwords')"
   ]
  },
  {
   "cell_type": "markdown",
   "id": "6495a54a",
   "metadata": {},
   "source": [
    "# Laboratorio 6 – Análisis de Redes Sociales (ARS)\n",
    "- Diego Valenuzela - 22309\n",
    "- Gerson Ramirez - 22281"
   ]
  },
  {
   "cell_type": "markdown",
   "id": "89d2e58b",
   "metadata": {},
   "source": [
    "## Ejercicio 1 y 2 – Descarga y carga de los archivos de datos\n",
    "\n",
    "El archivo `traficogt.txt` ya está disponible en la carpeta `/data`.  \n",
    "El archivo contiene **tweets en formato JSON**, uno por línea.  \n",
    "En esta sección cargaremos el archivo en un DataFrame de `pandas`."
   ]
  },
  {
   "cell_type": "code",
   "execution_count": 31,
   "id": "a30aeb15",
   "metadata": {},
   "outputs": [
    {
     "name": "stdout",
     "output_type": "stream",
     "text": [
      "[OK] Leído data/traficogt.txt con encoding='utf-16' → 5604 registros\n"
     ]
    },
    {
     "data": {
      "text/html": [
       "<div>\n",
       "<style scoped>\n",
       "    .dataframe tbody tr th:only-of-type {\n",
       "        vertical-align: middle;\n",
       "    }\n",
       "\n",
       "    .dataframe tbody tr th {\n",
       "        vertical-align: top;\n",
       "    }\n",
       "\n",
       "    .dataframe thead th {\n",
       "        text-align: right;\n",
       "    }\n",
       "</style>\n",
       "<table border=\"1\" class=\"dataframe\">\n",
       "  <thead>\n",
       "    <tr style=\"text-align: right;\">\n",
       "      <th></th>\n",
       "      <th>id</th>\n",
       "      <th>id_str</th>\n",
       "      <th>url</th>\n",
       "      <th>date</th>\n",
       "      <th>user</th>\n",
       "      <th>lang</th>\n",
       "      <th>rawContent</th>\n",
       "      <th>replyCount</th>\n",
       "      <th>retweetCount</th>\n",
       "      <th>likeCount</th>\n",
       "      <th>...</th>\n",
       "      <th>coordinates</th>\n",
       "      <th>inReplyToTweetId</th>\n",
       "      <th>inReplyToTweetIdStr</th>\n",
       "      <th>inReplyToUser</th>\n",
       "      <th>source</th>\n",
       "      <th>sourceUrl</th>\n",
       "      <th>sourceLabel</th>\n",
       "      <th>media</th>\n",
       "      <th>card</th>\n",
       "      <th>_type</th>\n",
       "    </tr>\n",
       "  </thead>\n",
       "  <tbody>\n",
       "    <tr>\n",
       "      <th>0</th>\n",
       "      <td>1834236045598056867</td>\n",
       "      <td>1834236045598056867</td>\n",
       "      <td>https://x.com/traficogt/status/183423604559805...</td>\n",
       "      <td>2024-09-12 14:22:06+00:00</td>\n",
       "      <td>{'id': 93938886, 'id_str': '93938886', 'url': ...</td>\n",
       "      <td>es</td>\n",
       "      <td>Es comprensible la resolución... El ruso sabe ...</td>\n",
       "      <td>0</td>\n",
       "      <td>0</td>\n",
       "      <td>1</td>\n",
       "      <td>...</td>\n",
       "      <td>None</td>\n",
       "      <td>NaN</td>\n",
       "      <td>None</td>\n",
       "      <td>None</td>\n",
       "      <td>&lt;a href=\"http://twitter.com/download/android\" ...</td>\n",
       "      <td>http://twitter.com/download/android</td>\n",
       "      <td>Twitter for Android</td>\n",
       "      <td>{'photos': [], 'videos': [], 'animated': []}</td>\n",
       "      <td>None</td>\n",
       "      <td>snscrape.modules.twitter.Tweet</td>\n",
       "    </tr>\n",
       "    <tr>\n",
       "      <th>1</th>\n",
       "      <td>1834029142565658846</td>\n",
       "      <td>1834029142565658846</td>\n",
       "      <td>https://x.com/monymmorales/status/183402914256...</td>\n",
       "      <td>2024-09-12 00:39:56+00:00</td>\n",
       "      <td>{'id': 976875408, 'id_str': '976875408', 'url'...</td>\n",
       "      <td>es</td>\n",
       "      <td>La corrupción de la @CC_Guatemala\\nes descarad...</td>\n",
       "      <td>0</td>\n",
       "      <td>56</td>\n",
       "      <td>84</td>\n",
       "      <td>...</td>\n",
       "      <td>None</td>\n",
       "      <td>NaN</td>\n",
       "      <td>None</td>\n",
       "      <td>None</td>\n",
       "      <td>&lt;a href=\"http://twitter.com/download/android\" ...</td>\n",
       "      <td>http://twitter.com/download/android</td>\n",
       "      <td>Twitter for Android</td>\n",
       "      <td>{'photos': [], 'videos': [], 'animated': []}</td>\n",
       "      <td>{'title': 'La Corte de Constitucionalidad orde...</td>\n",
       "      <td>snscrape.modules.twitter.Tweet</td>\n",
       "    </tr>\n",
       "  </tbody>\n",
       "</table>\n",
       "<p>2 rows × 32 columns</p>\n",
       "</div>"
      ],
      "text/plain": [
       "                    id               id_str  \\\n",
       "0  1834236045598056867  1834236045598056867   \n",
       "1  1834029142565658846  1834029142565658846   \n",
       "\n",
       "                                                 url  \\\n",
       "0  https://x.com/traficogt/status/183423604559805...   \n",
       "1  https://x.com/monymmorales/status/183402914256...   \n",
       "\n",
       "                        date  \\\n",
       "0  2024-09-12 14:22:06+00:00   \n",
       "1  2024-09-12 00:39:56+00:00   \n",
       "\n",
       "                                                user lang  \\\n",
       "0  {'id': 93938886, 'id_str': '93938886', 'url': ...   es   \n",
       "1  {'id': 976875408, 'id_str': '976875408', 'url'...   es   \n",
       "\n",
       "                                          rawContent  replyCount  \\\n",
       "0  Es comprensible la resolución... El ruso sabe ...           0   \n",
       "1  La corrupción de la @CC_Guatemala\\nes descarad...           0   \n",
       "\n",
       "   retweetCount  likeCount  ...  coordinates  inReplyToTweetId  \\\n",
       "0             0          1  ...         None               NaN   \n",
       "1            56         84  ...         None               NaN   \n",
       "\n",
       "   inReplyToTweetIdStr inReplyToUser  \\\n",
       "0                 None          None   \n",
       "1                 None          None   \n",
       "\n",
       "                                              source  \\\n",
       "0  <a href=\"http://twitter.com/download/android\" ...   \n",
       "1  <a href=\"http://twitter.com/download/android\" ...   \n",
       "\n",
       "                             sourceUrl          sourceLabel  \\\n",
       "0  http://twitter.com/download/android  Twitter for Android   \n",
       "1  http://twitter.com/download/android  Twitter for Android   \n",
       "\n",
       "                                          media  \\\n",
       "0  {'photos': [], 'videos': [], 'animated': []}   \n",
       "1  {'photos': [], 'videos': [], 'animated': []}   \n",
       "\n",
       "                                                card  \\\n",
       "0                                               None   \n",
       "1  {'title': 'La Corte de Constitucionalidad orde...   \n",
       "\n",
       "                            _type  \n",
       "0  snscrape.modules.twitter.Tweet  \n",
       "1  snscrape.modules.twitter.Tweet  \n",
       "\n",
       "[2 rows x 32 columns]"
      ]
     },
     "execution_count": 31,
     "metadata": {},
     "output_type": "execute_result"
    }
   ],
   "source": [
    "import json\n",
    "import pandas as pd\n",
    "from pathlib import Path\n",
    "import re\n",
    "import nltk\n",
    "from nltk.corpus import stopwords\n",
    "from nltk.tokenize import word_tokenize\n",
    "from nltk.stem import SnowballStemmer\n",
    "from collections import Counter, defaultdict\n",
    "import string\n",
    "import pandas as pd\n",
    "import numpy as np\n",
    "import matplotlib.pyplot as plt\n",
    "import seaborn as sns\n",
    "from wordcloud import WordCloud\n",
    "from datetime import datetime\n",
    "from math import sqrt, log\n",
    "import warnings\n",
    "import plotly.express as px\n",
    "import plotly.graph_objects as go\n",
    "from plotly.subplots import make_subplots\n",
    "import networkx as nx\n",
    "\n",
    "def load_jsonl(file_path):\n",
    "    encodings_to_try = [\"utf-8\", \"utf-8-sig\", \"utf-16\", \"latin1\"]\n",
    "    for enc in encodings_to_try:\n",
    "        try:\n",
    "            records = []\n",
    "            with open(file_path, encoding=enc) as f:\n",
    "                for line in f:\n",
    "                    try:\n",
    "                        records.append(json.loads(line))\n",
    "                    except json.JSONDecodeError:\n",
    "                        continue\n",
    "            print(f\"[OK] Leído {file_path} con encoding='{enc}' → {len(records)} registros\")\n",
    "            return pd.DataFrame(records)\n",
    "        except UnicodeDecodeError:\n",
    "            continue\n",
    "    raise ValueError(f\"No pude decodificar {file_path} con {encodings_to_try}\")\n",
    "\n",
    "# Cargar únicamente el archivo traficogt.txt\n",
    "data_path = Path(\"data\")\n",
    "traficogt_df = load_jsonl(data_path / \"traficogt.txt\")\n",
    "\n",
    "traficogt_df.head(2)"
   ]
  },
  {
   "cell_type": "markdown",
   "id": "ca2fbb59",
   "metadata": {},
   "source": [
    "## 3. Limpieza y preprocesamiento\n",
    "\n",
    "Las tareas de limpieza aplicadas incluyen:\n",
    "\n",
    "**Filtros básicos:**\n",
    "- Normalización a minúsculas\n",
    "- Eliminación de URLs, menciones (@usuario), hashtags\n",
    "- Eliminación de números y combinaciones alfanuméricas\n",
    "- Eliminación de signos de puntuación y caracteres especiales\n",
    "- Eliminación de caracteres HTML y entidades\n",
    "\n",
    "**Filtros avanzados:**\n",
    "- **Stopwords expandidas**: Eliminación de stopwords en español + palabras comunes en redes sociales ('rt', 'via', 'cc', etc.)\n",
    "- **Palabras poco informativas**: Eliminación de palabras muy comunes como 'q', 'si', 'va', 'dice', 'bien', 'mal', etc.\n",
    "- **Filtros de longitud**: Eliminación de tokens menores a 3 caracteres y mayores a 20 caracteres\n",
    "- **Caracteres repetidos**: Eliminación de tokens con 2 o menos caracteres únicos (ej: 'aaa', 'mmm')\n",
    "- **Tweets vacíos**: Eliminación de tweets sin contenido después de la limpieza\n",
    "\n",
    "**Extracción de metadatos:**\n",
    "- ID de usuario, texto limpio, menciones, respuestas, retweets\n",
    "- Eliminación de duplicados por ID de tweet"
   ]
  },
  {
   "cell_type": "code",
   "execution_count": null,
   "id": "778b2a8b",
   "metadata": {},
   "outputs": [
    {
     "name": "stderr",
     "output_type": "stream",
     "text": [
      "[nltk_data] Downloading package stopwords to /Users/gerco/nltk_data...\n",
      "[nltk_data]   Package stopwords is already up-to-date!\n",
      "[nltk_data] Downloading package punkt to /Users/gerco/nltk_data...\n",
      "[nltk_data]   Package punkt is already up-to-date!\n"
     ]
    },
    {
     "name": "stdout",
     "output_type": "stream",
     "text": [
      "Aplicando limpieza avanzada...\n",
      "Tweets antes de limpieza: 5596\n",
      "Tweets después de limpieza avanzada: 5163\n",
      "Tweets eliminados por estar vacíos: 433\n",
      "\n",
      "=== ESTADÍSTICAS DE LIMPIEZA ===\n",
      "Menciones extraídas: 9808\n",
      "Hashtags extraídos: 554\n",
      "URLs extraídas: 783\n",
      "\n",
      "=== EJEMPLO DE LIMPIEZA ===\n",
      "Original: Es comprensible la resolución... El ruso sabe de engrasar maquinaria....\n",
      "Limpio: comprensible resolucion ruso sabe engrasar maquinaria...\n",
      "Menciones: []\n",
      "Hashtags: []\n"
     ]
    },
    {
     "data": {
      "text/html": [
       "<div>\n",
       "<style scoped>\n",
       "    .dataframe tbody tr th:only-of-type {\n",
       "        vertical-align: middle;\n",
       "    }\n",
       "\n",
       "    .dataframe tbody tr th {\n",
       "        vertical-align: top;\n",
       "    }\n",
       "\n",
       "    .dataframe thead th {\n",
       "        text-align: right;\n",
       "    }\n",
       "</style>\n",
       "<table border=\"1\" class=\"dataframe\">\n",
       "  <thead>\n",
       "    <tr style=\"text-align: right;\">\n",
       "      <th></th>\n",
       "      <th>rawContent</th>\n",
       "      <th>text_clean</th>\n",
       "    </tr>\n",
       "  </thead>\n",
       "  <tbody>\n",
       "    <tr>\n",
       "      <th>0</th>\n",
       "      <td>Es comprensible la resolución... El ruso sabe ...</td>\n",
       "      <td>comprensible resolucion ruso sabe engrasar maq...</td>\n",
       "    </tr>\n",
       "    <tr>\n",
       "      <th>1</th>\n",
       "      <td>La corrupción de la @CC_Guatemala\\nes descarad...</td>\n",
       "      <td>corrupcion descarada falsificacion documentos ...</td>\n",
       "    </tr>\n",
       "    <tr>\n",
       "      <th>4</th>\n",
       "      <td>@soy_502 @AztecaNoticiaGT @CONAPgt @DenunciaEM...</td>\n",
       "      <td>urgente zona deterioro tala inmoderada trafico...</td>\n",
       "    </tr>\n",
       "  </tbody>\n",
       "</table>\n",
       "</div>"
      ],
      "text/plain": [
       "                                          rawContent  \\\n",
       "0  Es comprensible la resolución... El ruso sabe ...   \n",
       "1  La corrupción de la @CC_Guatemala\\nes descarad...   \n",
       "4  @soy_502 @AztecaNoticiaGT @CONAPgt @DenunciaEM...   \n",
       "\n",
       "                                          text_clean  \n",
       "0  comprensible resolucion ruso sabe engrasar maq...  \n",
       "1  corrupcion descarada falsificacion documentos ...  \n",
       "4  urgente zona deterioro tala inmoderada trafico...  "
      ]
     },
     "execution_count": 32,
     "metadata": {},
     "output_type": "execute_result"
    }
   ],
   "source": [
    "# Descargar recursos necesarios\n",
    "nltk.download(\"stopwords\")\n",
    "nltk.download(\"punkt\")\n",
    "\n",
    "# Configurar stopwords expandidas\n",
    "stopwords_es = set(stopwords.words(\"spanish\"))\n",
    "\n",
    "# Stopwords adicionales específicas para redes sociales y contexto guatemalteco\n",
    "social_stopwords = {\n",
    "    'rt', 'via', 'cc', 'dm', 'ff', 'tl', 'tw', 'retweet', 'tweet', 'twitter', 'x', 'com', 'www',\n",
    "    'http', 'https', 'amp', 'gt', 'lt', 'nbsp', 'br', 'div', 'span', 'img', 'href', 'src',\n",
    "    'alt', 'title', 'class', 'id', 'style', 'width', 'height', 'border', 'color', 'font', \n",
    "    'size', 'family', 'weight', 'px', 'html', 'css', 'js'\n",
    "}\n",
    "\n",
    "# Palabras poco informativas comunes\n",
    "filler_words = {\n",
    "    'q', 'si', 'va', 'dice', 'asi', 'aqui', 'ahi', 'alla', 'ser', 'estar', 'hacer', 'dar', 'tener',\n",
    "    'ir', 'ver', 'venir', 'decir', 'saber', 'poder', 'querer', 'poner', 'salir', 'pasar', 'llegar',\n",
    "    'seguir', 'traer', 'parecer', 'quedar', 'creer', 'encontrar', 'sentir', 'buscar', 'acabar',\n",
    "    'bien', 'tan', 'muy', 'solo', 'solamente', 'tambien', 'ademas', 'entonces', 'luego', 'despues', \n",
    "    'antes', 'ahora', 'hoy', 'ayer', 'mañana', 'siempre', 'nunca', 'vez', 'veces', 'momento', \n",
    "    'tiempo', 'dia', 'dias', 'año', 'años', 'mes', 'meses', 'hora', 'horas', 'minuto', 'minutos'\n",
    "}\n",
    "\n",
    "# Interjecciones y expresiones comunes en redes sociales\n",
    "interjections = {\n",
    "    'ah', 'oh', 'eh', 'mm', 'hmm', 'ok', 'okay', 'si', 'no', 'ja', 'jaja', 'jajaja', 'jeje', 'jiji',\n",
    "    'aja', 'aha', 'uuu', 'aaa', 'ooo', 'eee', 'iii', 'wow', 'bah', 'meh', 'pfff', 'tsk', 'ups',\n",
    "    'pues', 'bueno', 'entonces', 'claro', 'obviamente', 'realmente', 'verdaderamente', 'ciertamente'\n",
    "}\n",
    "\n",
    "# Combinar todas las stopwords\n",
    "all_stopwords = stopwords_es.union(social_stopwords).union(filler_words).union(interjections)\n",
    "\n",
    "# Inicializar stemmer\n",
    "stemmer = SnowballStemmer('spanish')\n",
    "\n",
    "def extract_metadata(text):\n",
    "    \"\"\"Extrae menciones, hashtags y URLs del texto original\"\"\"\n",
    "    mentions = re.findall(r'@(\\w+)', str(text))\n",
    "    hashtags = re.findall(r'#(\\w+)', str(text))\n",
    "    urls = re.findall(r'https?://\\S+', str(text))\n",
    "    return mentions, hashtags, urls\n",
    "\n",
    "def advanced_clean_text(text: str, use_stemming=False) -> tuple:\n",
    "    \"\"\"\n",
    "    Limpieza avanzada de texto con extracción de metadatos\n",
    "    Retorna: (texto_limpio, menciones, hashtags, urls)\n",
    "    \"\"\"\n",
    "    if pd.isna(text) or not text:\n",
    "        return \"\", [], [], []\n",
    "    \n",
    "    original_text = str(text)\n",
    "    \n",
    "    # Extraer metadatos antes de limpiar\n",
    "    mentions, hashtags, urls = extract_metadata(original_text)\n",
    "    \n",
    "    # Normalizar texto\n",
    "    text = original_text.lower()\n",
    "    \n",
    "    # Reemplazar caracteres especiales comunes\n",
    "    replacements = {\n",
    "        'á': 'a', 'é': 'e', 'í': 'i', 'ó': 'o', 'ú': 'u', 'ü': 'u', 'ñ': 'n',\n",
    "        'â': 'a', 'ê': 'e', 'î': 'i', 'ô': 'o', 'û': 'u',\n",
    "        'à': 'a', 'è': 'e', 'ì': 'i', 'ò': 'o', 'ù': 'u'\n",
    "    }\n",
    "    for old, new in replacements.items():\n",
    "        text = text.replace(old, new)\n",
    "    \n",
    "    text = re.sub(r\"https?://\\S+\", \" \", text)\n",
    "    text = re.sub(r\"www\\.\\S+\", \" \", text)\n",
    "    text = re.sub(r\"@\\w+\", \" \", text)\n",
    "    text = re.sub(r\"#\\w+\", \" \", text)\n",
    "    \n",
    "    # Eliminar contenido entre paréntesis y corchetes (suelen ser aclaraciones)\n",
    "    text = re.sub(r'\\([^)]*\\)', ' ', text)\n",
    "    text = re.sub(r'\\[[^\\]]*\\]', ' ', text)\n",
    "    \n",
    "    # Eliminar números y combinaciones alfanuméricas\n",
    "    text = re.sub(r\"\\b\\d+\\b\", \" \", text)\n",
    "    text = re.sub(r\"\\w*\\d\\w*\", \" \", text)\n",
    "    \n",
    "    # Eliminar caracteres HTML y entidades\n",
    "    text = re.sub(r\"&\\w+;\", \" \", text)\n",
    "    text = re.sub(r\"<[^>]+>\", \" \", text)\n",
    "    \n",
    "    # Eliminar signos de puntuación pero preservar espacios\n",
    "    text = re.sub(r\"[^\\w\\s]\", \" \", text)\n",
    "    \n",
    "    # Normalizar espacios\n",
    "    text = re.sub(r\"\\s+\", \" \", text).strip()\n",
    "    \n",
    "    # Tokenización más robusta\n",
    "    try:\n",
    "        tokens = word_tokenize(text, language='spanish')\n",
    "    except:\n",
    "        tokens = text.split()\n",
    "    \n",
    "    # Filtrado avanzado de tokens\n",
    "    filtered_tokens = []\n",
    "    for token in tokens:\n",
    "        # Filtros básicos de longitud\n",
    "        if len(token) < 2 or len(token) > 25:\n",
    "            continue\n",
    "            \n",
    "        # Eliminar tokens que son solo caracteres repetidos\n",
    "        if len(set(token)) <= 1:\n",
    "            continue\n",
    "            \n",
    "        # Eliminar tokens con patrones sospechosos\n",
    "        if re.match(r'^([a-z])\\1{2,}$', token):  # aaa, bbb, etc.\n",
    "            continue\n",
    "            \n",
    "        # Filtrar stopwords\n",
    "        if token in all_stopwords:\n",
    "            continue\n",
    "            \n",
    "        # Filtrar tokens que son solo puntuación\n",
    "        if token in string.punctuation:\n",
    "            continue\n",
    "            \n",
    "        # Aplicar stemming si se especifica\n",
    "        if use_stemming:\n",
    "            token = stemmer.stem(token)\n",
    "            \n",
    "        filtered_tokens.append(token)\n",
    "    \n",
    "    return \" \".join(filtered_tokens), mentions, hashtags, urls\n",
    "\n",
    "# Aplicar limpieza avanzada\n",
    "print(\"Aplicando limpieza avanzada...\")\n",
    "cleaning_results = traficogt_df[\"rawContent\"].apply(lambda x: advanced_clean_text(x, use_stemming=False))\n",
    "\n",
    "# Separar resultados\n",
    "traficogt_df[\"text_clean\"] = [result[0] for result in cleaning_results]\n",
    "traficogt_df[\"extracted_mentions\"] = [result[1] for result in cleaning_results]\n",
    "traficogt_df[\"extracted_hashtags\"] = [result[2] for result in cleaning_results]\n",
    "traficogt_df[\"extracted_urls\"] = [result[3] for result in cleaning_results]\n",
    "\n",
    "# Eliminar duplicados y filtrar tweets vacíos\n",
    "traficogt_df.drop_duplicates(subset=[\"id\"], inplace=True)\n",
    "initial_count = len(traficogt_df)\n",
    "traficogt_df = traficogt_df[traficogt_df[\"text_clean\"].str.len() > 0]\n",
    "final_count = len(traficogt_df)\n",
    "\n",
    "print(f\"Tweets antes de limpieza: {initial_count}\")\n",
    "print(f\"Tweets después de limpieza avanzada: {final_count}\")\n",
    "print(f\"Tweets eliminados por estar vacíos: {initial_count - final_count}\")\n",
    "\n",
    "# Estadísticas de limpieza\n",
    "print(\"\\n=== ESTADÍSTICAS DE LIMPIEZA ===\")\n",
    "total_mentions = sum(len(mentions) for mentions in traficogt_df[\"extracted_mentions\"])\n",
    "total_hashtags = sum(len(hashtags) for hashtags in traficogt_df[\"extracted_hashtags\"])\n",
    "total_urls = sum(len(urls) for urls in traficogt_df[\"extracted_urls\"])\n",
    "\n",
    "print(f\"Menciones extraídas: {total_mentions}\")\n",
    "print(f\"Hashtags extraídos: {total_hashtags}\")\n",
    "print(f\"URLs extraídas: {total_urls}\")\n",
    "\n",
    "# Mostrar ejemplo de limpieza\n",
    "print(\"\\n=== EJEMPLO DE LIMPIEZA ===\")\n",
    "sample_idx = traficogt_df.index[0]\n",
    "print(\"Original:\", traficogt_df.loc[sample_idx, \"rawContent\"][:200] + \"...\")\n",
    "print(\"Limpio:\", traficogt_df.loc[sample_idx, \"text_clean\"][:200] + \"...\")\n",
    "print(\"Menciones:\", traficogt_df.loc[sample_idx, \"extracted_mentions\"])\n",
    "print(\"Hashtags:\", traficogt_df.loc[sample_idx, \"extracted_hashtags\"])\n",
    "\n",
    "traficogt_df[[\"rawContent\", \"text_clean\"]].head(3)"
   ]
  },
  {
   "cell_type": "markdown",
   "id": "d9c2cee5",
   "metadata": {},
   "source": [
    "## 4. Análisis Exploratorio\n",
    "\n",
    "Exploramos:\n",
    "- Cantidad de tweets y usuarios únicos.\n",
    "- Número de menciones, respuestas y retweets.\n",
    "- Hashtags más frecuentes.\n",
    "- Visualización con nube de palabras.\n",
    "\n",
    "Esto permite generar preguntas de investigación iniciales.\n"
   ]
  },
  {
   "cell_type": "code",
   "execution_count": 33,
   "id": "9c6a4ee3",
   "metadata": {},
   "outputs": [
    {
     "name": "stdout",
     "output_type": "stream",
     "text": [
      "\n",
      "==================================================\n",
      "ANÁLISIS EXPLORATORIO DETALLADO - TRAFICOGT\n",
      "==================================================\n",
      "\n",
      "📊 ESTADÍSTICAS BÁSICAS:\n",
      "  • Total de tweets: 5,163\n",
      "  • Usuarios únicos: 1,960\n",
      "  • Promedio tweets por usuario: 2.63\n",
      "  • Total menciones: 9,808\n",
      "  • Total hashtags: 554\n",
      "  • Total URLs: 783\n",
      "  • Tweets con menciones: 4,070 (78.8%)\n",
      "  • Tweets con hashtags: 384 (7.4%)\n",
      "\n",
      "📈 MÉTRICAS DE ENGAGEMENT:\n",
      "  • Total retweets: 164,868\n",
      "  • Total likes: 476,855\n",
      "  • Promedio retweets por tweet: 31.93\n",
      "  • Promedio likes por tweet: 92.36\n",
      "\n",
      "📅 ANÁLISIS TEMPORAL:\n",
      "  • Rango de fechas: 642 días\n",
      "  • Fecha más antigua: 2022-12-09 15:53\n",
      "  • Fecha más reciente: 2024-09-12 14:22\n",
      "\n",
      "📝 ANÁLISIS DE CONTENIDO:\n",
      "  • Palabras únicas: 12,101\n",
      "  • Total de palabras: 44,714\n",
      "  • Promedio palabras por tweet: 8.66\n",
      "  • Longitud media tweet (palabras): 8.66\n",
      "  • Mediana longitud tweet: 7.00\n",
      "\n",
      "🔝 ELEMENTOS MÁS FRECUENTES:\n",
      "  📋 Top 20 palabras más frecuentes:\n",
      "     1. mas             →  441 veces (0.99%)\n",
      "     2. guatemala       →  251 veces (0.56%)\n",
      "     3. estan           →  209 veces (0.47%)\n",
      "     4. corruptos       →  203 veces (0.45%)\n",
      "     5. pueblo          →  185 veces (0.41%)\n",
      "     6. mp              →  177 veces (0.40%)\n",
      "     7. presidente      →  173 veces (0.39%)\n",
      "     8. gobierno        →  147 veces (0.33%)\n",
      "     9. pais            →  142 veces (0.32%)\n",
      "    10. gente           →  135 veces (0.30%)\n",
      "    11. puede           →  125 veces (0.28%)\n",
      "    12. ley             →  114 veces (0.25%)\n",
      "    13. corrupcion      →  113 veces (0.25%)\n",
      "    14. van             →  111 veces (0.25%)\n",
      "    15. debe            →  111 veces (0.25%)\n",
      "    16. congreso        →  110 veces (0.25%)\n",
      "    17. semilla         →  109 veces (0.24%)\n",
      "    18. arevalo         →  108 veces (0.24%)\n",
      "    19. trafico         →   98 veces (0.22%)\n",
      "    20. hace            →   95 veces (0.21%)\n",
      "\n",
      "  💬 Top 10 usuarios más mencionados:\n",
      "     1. @traficogt       → 3815 menciones\n",
      "     2. @BArevalodeLeon  → 404 menciones\n",
      "     3. @amilcarmontejo  → 159 menciones\n",
      "     4. @DrGiammattei    → 159 menciones\n",
      "     5. @PrensaComunitar → 148 menciones\n",
      "     6. @MPguatemala     → 123 menciones\n",
      "     7. @lahoragt        → 116 menciones\n",
      "     8. @mmendoza_GT     → 113 menciones\n",
      "     9. @CC_Guatemala    → 102 menciones\n",
      "    10. @muniguate       →  89 menciones\n",
      "\n",
      "  #️⃣ Top 10 hashtags más usados:\n",
      "     1. #AhoraLH         →  18 usos\n",
      "     2. #AHORA           →  18 usos\n",
      "     3. #Guatemala       →  15 usos\n",
      "     4. #RenuncienGolpistas →  12 usos\n",
      "     5. #URGENTE         →  10 usos\n",
      "     6. #guatemala       →   9 usos\n",
      "     7. #Ahora           →   8 usos\n",
      "     8. #LaHoraDeActualizarnos →   8 usos\n",
      "     9. #GuateResiste    →   8 usos\n",
      "    10. #ParoNacionalIndefinido →   8 usos\n",
      "\n",
      "  👤 Top 10 usuarios más activos:\n",
      "     1. @traficogt       → 774 tweets\n",
      "     2. @batallonjalapa  → 132 tweets\n",
      "     3. @mildred_gaitan  →  81 tweets\n",
      "     4. @lahoragt        →  72 tweets\n",
      "     5. @angeln8         →  45 tweets\n",
      "     6. @PrensaComunitar →  40 tweets\n",
      "     7. @hellboy17oc     →  38 tweets\n",
      "     8. @PapaAbuMario    →  36 tweets\n",
      "     9. @Alejandro2024gt →  33 tweets\n",
      "    10. @ldubon63        →  32 tweets\n",
      "\n",
      "🎨 Generando visualizaciones mejoradas para traficogt...\n"
     ]
    },
    {
     "data": {
      "application/vnd.plotly.v1+json": {
       "config": {
        "plotlyServerURL": "https://plot.ly"
       },
       "data": [
        {
         "line": {
          "color": "#1f77b4",
          "width": 2
         },
         "mode": "lines+markers",
         "name": "Tweets por día",
         "type": "scatter",
         "x": [
          "2022-12-09",
          "2023-08-14",
          "2023-10-08",
          "2023-10-09",
          "2023-10-10",
          "2023-10-11",
          "2023-10-12",
          "2023-10-13",
          "2023-10-14",
          "2023-10-15",
          "2023-10-16",
          "2023-10-17",
          "2023-10-18",
          "2023-10-19",
          "2023-10-20",
          "2023-10-21",
          "2023-10-22",
          "2023-10-23",
          "2023-10-24",
          "2023-10-25",
          "2023-10-26",
          "2023-10-27",
          "2023-10-28",
          "2023-10-29",
          "2023-10-30",
          "2023-10-31",
          "2023-11-01",
          "2023-11-02",
          "2023-11-03",
          "2023-11-04",
          "2023-11-05",
          "2023-11-06",
          "2023-11-07",
          "2023-11-08",
          "2023-11-09",
          "2023-11-10",
          "2023-11-11",
          "2023-11-12",
          "2023-11-13",
          "2023-11-14",
          "2023-11-15",
          "2023-11-16",
          "2023-11-17",
          "2023-11-18",
          "2023-11-19",
          "2023-11-20",
          "2023-11-21",
          "2023-11-22",
          "2023-11-23",
          "2023-11-24",
          "2023-11-25",
          "2023-11-26",
          "2023-11-27",
          "2023-11-28",
          "2023-11-29",
          "2023-11-30",
          "2023-12-01",
          "2023-12-02",
          "2023-12-03",
          "2023-12-04",
          "2023-12-05",
          "2023-12-06",
          "2023-12-07",
          "2023-12-08",
          "2023-12-09",
          "2023-12-10",
          "2023-12-11",
          "2023-12-12",
          "2023-12-13",
          "2023-12-14",
          "2023-12-15",
          "2023-12-16",
          "2023-12-17",
          "2023-12-18",
          "2023-12-19",
          "2023-12-22",
          "2023-12-23",
          "2023-12-24",
          "2023-12-25",
          "2023-12-27",
          "2023-12-28",
          "2023-12-29",
          "2023-12-30",
          "2023-12-31",
          "2024-01-01",
          "2024-01-02",
          "2024-01-03",
          "2024-01-04",
          "2024-01-05",
          "2024-01-06",
          "2024-01-07",
          "2024-01-08",
          "2024-01-09",
          "2024-01-10",
          "2024-01-11",
          "2024-01-12",
          "2024-01-13",
          "2024-01-14",
          "2024-01-15",
          "2024-01-16",
          "2024-01-17",
          "2024-01-18",
          "2024-01-19",
          "2024-01-20",
          "2024-01-21",
          "2024-01-22",
          "2024-01-23",
          "2024-01-24",
          "2024-01-25",
          "2024-01-26",
          "2024-01-27",
          "2024-01-28",
          "2024-01-29",
          "2024-01-30",
          "2024-01-31",
          "2024-02-01",
          "2024-02-02",
          "2024-02-03",
          "2024-02-04",
          "2024-02-05",
          "2024-02-06",
          "2024-02-07",
          "2024-02-08",
          "2024-02-09",
          "2024-02-10",
          "2024-02-11",
          "2024-02-12",
          "2024-02-13",
          "2024-02-14",
          "2024-02-15",
          "2024-02-16",
          "2024-02-17",
          "2024-02-18",
          "2024-02-19",
          "2024-02-20",
          "2024-02-21",
          "2024-02-22",
          "2024-02-23",
          "2024-02-24",
          "2024-02-25",
          "2024-02-26",
          "2024-02-27",
          "2024-02-28",
          "2024-02-29",
          "2024-03-01",
          "2024-03-02",
          "2024-03-03",
          "2024-03-04",
          "2024-03-05",
          "2024-03-06",
          "2024-03-07",
          "2024-03-08",
          "2024-03-09",
          "2024-03-10",
          "2024-03-11",
          "2024-03-12",
          "2024-03-13",
          "2024-03-14",
          "2024-03-15",
          "2024-03-16",
          "2024-03-17",
          "2024-03-18",
          "2024-03-19",
          "2024-03-20",
          "2024-03-21",
          "2024-03-22",
          "2024-03-23",
          "2024-03-24",
          "2024-03-25",
          "2024-03-26",
          "2024-03-27",
          "2024-03-28",
          "2024-03-29",
          "2024-03-30",
          "2024-03-31",
          "2024-04-01",
          "2024-04-02",
          "2024-04-03",
          "2024-04-04",
          "2024-04-05",
          "2024-04-06",
          "2024-04-07",
          "2024-04-08",
          "2024-04-09",
          "2024-04-10",
          "2024-04-11",
          "2024-04-12",
          "2024-04-13",
          "2024-04-14",
          "2024-04-15",
          "2024-04-16",
          "2024-04-17",
          "2024-04-18",
          "2024-04-19",
          "2024-04-20",
          "2024-04-21",
          "2024-04-22",
          "2024-04-24",
          "2024-04-25",
          "2024-04-26",
          "2024-04-27",
          "2024-04-28",
          "2024-04-29",
          "2024-04-30",
          "2024-05-01",
          "2024-05-02",
          "2024-05-03",
          "2024-05-04",
          "2024-05-05",
          "2024-05-06",
          "2024-05-07",
          "2024-05-08",
          "2024-05-09",
          "2024-05-10",
          "2024-05-11",
          "2024-05-12",
          "2024-05-13",
          "2024-05-14",
          "2024-05-15",
          "2024-05-16",
          "2024-05-17",
          "2024-05-18",
          "2024-05-19",
          "2024-05-20",
          "2024-05-21",
          "2024-05-22",
          "2024-05-23",
          "2024-05-24",
          "2024-05-25",
          "2024-05-27",
          "2024-05-28",
          "2024-06-01",
          "2024-06-02",
          "2024-06-03",
          "2024-06-04",
          "2024-06-05",
          "2024-06-06",
          "2024-06-07",
          "2024-06-09",
          "2024-06-10",
          "2024-06-11",
          "2024-06-12",
          "2024-06-13",
          "2024-06-14",
          "2024-06-15",
          "2024-06-16",
          "2024-06-17",
          "2024-06-18",
          "2024-06-19",
          "2024-06-20",
          "2024-06-21",
          "2024-06-22",
          "2024-06-23",
          "2024-06-24",
          "2024-06-25",
          "2024-06-26",
          "2024-06-27",
          "2024-06-28",
          "2024-06-29",
          "2024-06-30",
          "2024-07-01",
          "2024-07-02",
          "2024-07-03",
          "2024-07-04",
          "2024-07-06",
          "2024-07-07",
          "2024-07-08",
          "2024-07-09",
          "2024-07-10",
          "2024-07-11",
          "2024-07-12",
          "2024-07-13",
          "2024-07-15",
          "2024-07-16",
          "2024-07-17",
          "2024-07-18",
          "2024-07-19",
          "2024-07-20",
          "2024-07-21",
          "2024-07-22",
          "2024-07-23",
          "2024-07-24",
          "2024-07-25",
          "2024-07-26",
          "2024-07-27",
          "2024-07-28",
          "2024-07-29",
          "2024-07-30",
          "2024-07-31",
          "2024-08-01",
          "2024-08-02",
          "2024-08-03",
          "2024-08-04",
          "2024-08-05",
          "2024-08-06",
          "2024-08-07",
          "2024-08-08",
          "2024-08-09",
          "2024-08-10",
          "2024-08-11",
          "2024-08-12",
          "2024-08-13",
          "2024-08-14",
          "2024-08-15",
          "2024-08-16",
          "2024-08-17",
          "2024-08-18",
          "2024-08-19",
          "2024-08-20",
          "2024-08-21",
          "2024-08-22",
          "2024-08-23",
          "2024-08-24",
          "2024-08-25",
          "2024-08-26",
          "2024-08-28",
          "2024-08-29",
          "2024-08-30",
          "2024-08-31",
          "2024-09-01",
          "2024-09-02",
          "2024-09-03",
          "2024-09-04",
          "2024-09-05",
          "2024-09-06",
          "2024-09-08",
          "2024-09-09",
          "2024-09-10",
          "2024-09-11",
          "2024-09-12"
         ],
         "xaxis": "x",
         "y": {
          "bdata": "AQABABAAogAJAQEBkwCTADAATABCADMAFwAXAA4ACAAHAAQAEAAjABUAEgAHABAAEQAYAAcACwAMAAoAEgAKABAAGwAdAAQABwADAAcACAAEAFEAJgAaAAUACAARABIACAABAAIAAgABAAoADwAGABEACQAIAAgADwAKAAcACAAVAAwAEQAaABUAGQAZAA4AAgAEAAQABAAHAAUAAgACAAIAAwAEAAkABAACAAQACgAMAAEACAAJABgAEwAQAAsAEgC+AHkAQgAhAE8AJgAwAAwADQAVABkAGgAVAAYADgARABoAFwAFABAABAAFABAABgAJAAwACwAFAA0AAwAOAAsAAQAMAAcACAAKAAgABgANAAkAAwARAAQACwAPAAUAEAADAAYABAAFAAcACwAKAAMAAgAEABEABgAHAAcAEAAEAAIAGgANAAsAAgACAAEAAgAIAAIABAACAAIAAQACAAoAIgAlAAoATwA6AA0ACQAEAA0AAQAHAAEABAAHAAQACwAGAAIAAgAHAA4ACwAOAAcAAwAKAA4AEgANAAEAAQABAD0AHAAFAAYACQAFAAEAAgADABIACQANAAsABgANABMABQAEAAIACgACAAIABgAFAAIABAADAAIAAQABAAEABwADAAIAAQACAAEABQAMAAYACwAKAAMAAgAEAAIACgAGAAcAAwACAAMADgAHAAcAAgAHAAIAAgACAAUAFQAJAAMAAwADAAcABwAGAAoABAAIAAcAHQALAAMAAgAEABIABwAQACoAUQALAA0AiQA4ABgAEQAFAAMAMAAHAAcAAwAJAAgABQADAAUAAwANAAYAAgADAAUAAgACAAYAAQAEAAYADQAJAAgABQACAAoABgACAAIA",
          "dtype": "i2"
         },
         "yaxis": "y"
        },
        {
         "marker": {
          "color": "#2ca02c"
         },
         "name": "Frecuencia palabras",
         "orientation": "h",
         "type": "bar",
         "x": [
          441,
          251,
          209,
          203,
          185,
          177,
          173,
          147,
          142,
          135,
          125,
          114,
          113,
          111,
          111
         ],
         "xaxis": "x2",
         "y": [
          "mas",
          "guatemala",
          "estan",
          "corruptos",
          "pueblo",
          "mp",
          "presidente",
          "gobierno",
          "pais",
          "gente",
          "puede",
          "ley",
          "corrupcion",
          "van",
          "debe"
         ],
         "yaxis": "y2"
        },
        {
         "marker": {
          "color": "#ff7f0e"
         },
         "name": "Avg Retweets",
         "type": "bar",
         "x": {
          "bdata": "AAAAAAEAAAACAAAAAwAAAAQAAAAFAAAABgAAAAcAAAAIAAAACQAAAAoAAAALAAAADAAAAA0AAAAOAAAADwAAABAAAAARAAAAEgAAABMAAAAUAAAAFQAAABYAAAAXAAAA",
          "dtype": "i4"
         },
         "xaxis": "x3",
         "y": {
          "bdata": "zczMzMwMRUCuR+F6FO5EQFK4HoXrUUFAw/UoXI8CREAK16NwPQo5QJqZmZmZGT5AMzMzMzMzC0AfhetRuB4uQAAAAAAAAAAAMzMzMzMzF0DNzMzMzEwqQMP1KFyPQi1ApHA9CtdjO0Bcj8L1KNw9QOxRuB6FK0BAw/UoXI8COkAAAAAAAGBCQBSuR+F69E9AuB6F61FYQkApXI/C9Sg8QD0K16NwPTNAzczMzMyMMkDXo3A9Chc9QMP1KFyPQjxA",
          "dtype": "f8"
         },
         "yaxis": "y3"
        },
        {
         "line": {
          "color": "#d62728",
          "width": 2
         },
         "mode": "lines+markers",
         "name": "Avg Likes",
         "type": "scatter",
         "x": {
          "bdata": "AAAAAAEAAAACAAAAAwAAAAQAAAAFAAAABgAAAAcAAAAIAAAACQAAAAoAAAALAAAADAAAAA0AAAAOAAAADwAAABAAAAARAAAAEgAAABMAAAAUAAAAFQAAABYAAAAXAAAA",
          "dtype": "i4"
         },
         "xaxis": "x3",
         "y": {
          "bdata": "PQrXo3D9V0DXo3A9CjdeQD0K16NwDVhAMzMzMzPzYUDNzMzMzIxVQAAAAAAAcFZApHA9CtejKUAAAAAAAOBVQDMzMzMzM9M/AAAAAAAAP0AK16NwPYo3QHE9Ctej0EBAexSuR+F6T0AK16NwPRpUQFyPwvUovFVA4XoUrkexVECF61G4HrVWQLgehetRiGRAzczMzMx8WEDNzMzMzKxVQAAAAAAAoE9AhetRuB5lUUCamZmZmZlZQEjhehSut1NA",
          "dtype": "f8"
         },
         "yaxis": "y4"
        },
        {
         "marker": {
          "color": "#9467bd"
         },
         "name": "Distribución longitud",
         "nbinsx": 30,
         "opacity": 0.7,
         "type": "histogram",
         "x": {
          "bdata": "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",
          "dtype": "i1"
         },
         "xaxis": "x4",
         "yaxis": "y5"
        }
       ],
       "layout": {
        "annotations": [
         {
          "font": {
           "size": 16
          },
          "showarrow": false,
          "text": "Distribución Temporal de Tweets",
          "x": 0.185,
          "xanchor": "center",
          "xref": "paper",
          "y": 1,
          "yanchor": "bottom",
          "yref": "paper"
         },
         {
          "font": {
           "size": 16
          },
          "showarrow": false,
          "text": "Top 15 Palabras Más Frecuentes",
          "x": 0.7550000000000001,
          "xanchor": "center",
          "xref": "paper",
          "y": 1,
          "yanchor": "bottom",
          "yref": "paper"
         },
         {
          "font": {
           "size": 16
          },
          "showarrow": false,
          "text": "Engagement por Hora",
          "x": 0.185,
          "xanchor": "center",
          "xref": "paper",
          "y": 0.375,
          "yanchor": "bottom",
          "yref": "paper"
         },
         {
          "font": {
           "size": 16
          },
          "showarrow": false,
          "text": "Distribución de Longitud de Tweets",
          "x": 0.7550000000000001,
          "xanchor": "center",
          "xref": "paper",
          "y": 0.375,
          "yanchor": "bottom",
          "yref": "paper"
         }
        ],
        "height": 800,
        "showlegend": true,
        "template": {
         "data": {
          "bar": [
           {
            "error_x": {
             "color": "#2a3f5f"
            },
            "error_y": {
             "color": "#2a3f5f"
            },
            "marker": {
             "line": {
              "color": "white",
              "width": 0.5
             },
             "pattern": {
              "fillmode": "overlay",
              "size": 10,
              "solidity": 0.2
             }
            },
            "type": "bar"
           }
          ],
          "barpolar": [
           {
            "marker": {
             "line": {
              "color": "white",
              "width": 0.5
             },
             "pattern": {
              "fillmode": "overlay",
              "size": 10,
              "solidity": 0.2
             }
            },
            "type": "barpolar"
           }
          ],
          "carpet": [
           {
            "aaxis": {
             "endlinecolor": "#2a3f5f",
             "gridcolor": "#C8D4E3",
             "linecolor": "#C8D4E3",
             "minorgridcolor": "#C8D4E3",
             "startlinecolor": "#2a3f5f"
            },
            "baxis": {
             "endlinecolor": "#2a3f5f",
             "gridcolor": "#C8D4E3",
             "linecolor": "#C8D4E3",
             "minorgridcolor": "#C8D4E3",
             "startlinecolor": "#2a3f5f"
            },
            "type": "carpet"
           }
          ],
          "choropleth": [
           {
            "colorbar": {
             "outlinewidth": 0,
             "ticks": ""
            },
            "type": "choropleth"
           }
          ],
          "contour": [
           {
            "colorbar": {
             "outlinewidth": 0,
             "ticks": ""
            },
            "colorscale": [
             [
              0,
              "#0d0887"
             ],
             [
              0.1111111111111111,
              "#46039f"
             ],
             [
              0.2222222222222222,
              "#7201a8"
             ],
             [
              0.3333333333333333,
              "#9c179e"
             ],
             [
              0.4444444444444444,
              "#bd3786"
             ],
             [
              0.5555555555555556,
              "#d8576b"
             ],
             [
              0.6666666666666666,
              "#ed7953"
             ],
             [
              0.7777777777777778,
              "#fb9f3a"
             ],
             [
              0.8888888888888888,
              "#fdca26"
             ],
             [
              1,
              "#f0f921"
             ]
            ],
            "type": "contour"
           }
          ],
          "contourcarpet": [
           {
            "colorbar": {
             "outlinewidth": 0,
             "ticks": ""
            },
            "type": "contourcarpet"
           }
          ],
          "heatmap": [
           {
            "colorbar": {
             "outlinewidth": 0,
             "ticks": ""
            },
            "colorscale": [
             [
              0,
              "#0d0887"
             ],
             [
              0.1111111111111111,
              "#46039f"
             ],
             [
              0.2222222222222222,
              "#7201a8"
             ],
             [
              0.3333333333333333,
              "#9c179e"
             ],
             [
              0.4444444444444444,
              "#bd3786"
             ],
             [
              0.5555555555555556,
              "#d8576b"
             ],
             [
              0.6666666666666666,
              "#ed7953"
             ],
             [
              0.7777777777777778,
              "#fb9f3a"
             ],
             [
              0.8888888888888888,
              "#fdca26"
             ],
             [
              1,
              "#f0f921"
             ]
            ],
            "type": "heatmap"
           }
          ],
          "histogram": [
           {
            "marker": {
             "pattern": {
              "fillmode": "overlay",
              "size": 10,
              "solidity": 0.2
             }
            },
            "type": "histogram"
           }
          ],
          "histogram2d": [
           {
            "colorbar": {
             "outlinewidth": 0,
             "ticks": ""
            },
            "colorscale": [
             [
              0,
              "#0d0887"
             ],
             [
              0.1111111111111111,
              "#46039f"
             ],
             [
              0.2222222222222222,
              "#7201a8"
             ],
             [
              0.3333333333333333,
              "#9c179e"
             ],
             [
              0.4444444444444444,
              "#bd3786"
             ],
             [
              0.5555555555555556,
              "#d8576b"
             ],
             [
              0.6666666666666666,
              "#ed7953"
             ],
             [
              0.7777777777777778,
              "#fb9f3a"
             ],
             [
              0.8888888888888888,
              "#fdca26"
             ],
             [
              1,
              "#f0f921"
             ]
            ],
            "type": "histogram2d"
           }
          ],
          "histogram2dcontour": [
           {
            "colorbar": {
             "outlinewidth": 0,
             "ticks": ""
            },
            "colorscale": [
             [
              0,
              "#0d0887"
             ],
             [
              0.1111111111111111,
              "#46039f"
             ],
             [
              0.2222222222222222,
              "#7201a8"
             ],
             [
              0.3333333333333333,
              "#9c179e"
             ],
             [
              0.4444444444444444,
              "#bd3786"
             ],
             [
              0.5555555555555556,
              "#d8576b"
             ],
             [
              0.6666666666666666,
              "#ed7953"
             ],
             [
              0.7777777777777778,
              "#fb9f3a"
             ],
             [
              0.8888888888888888,
              "#fdca26"
             ],
             [
              1,
              "#f0f921"
             ]
            ],
            "type": "histogram2dcontour"
           }
          ],
          "mesh3d": [
           {
            "colorbar": {
             "outlinewidth": 0,
             "ticks": ""
            },
            "type": "mesh3d"
           }
          ],
          "parcoords": [
           {
            "line": {
             "colorbar": {
              "outlinewidth": 0,
              "ticks": ""
             }
            },
            "type": "parcoords"
           }
          ],
          "pie": [
           {
            "automargin": true,
            "type": "pie"
           }
          ],
          "scatter": [
           {
            "fillpattern": {
             "fillmode": "overlay",
             "size": 10,
             "solidity": 0.2
            },
            "type": "scatter"
           }
          ],
          "scatter3d": [
           {
            "line": {
             "colorbar": {
              "outlinewidth": 0,
              "ticks": ""
             }
            },
            "marker": {
             "colorbar": {
              "outlinewidth": 0,
              "ticks": ""
             }
            },
            "type": "scatter3d"
           }
          ],
          "scattercarpet": [
           {
            "marker": {
             "colorbar": {
              "outlinewidth": 0,
              "ticks": ""
             }
            },
            "type": "scattercarpet"
           }
          ],
          "scattergeo": [
           {
            "marker": {
             "colorbar": {
              "outlinewidth": 0,
              "ticks": ""
             }
            },
            "type": "scattergeo"
           }
          ],
          "scattergl": [
           {
            "marker": {
             "colorbar": {
              "outlinewidth": 0,
              "ticks": ""
             }
            },
            "type": "scattergl"
           }
          ],
          "scattermap": [
           {
            "marker": {
             "colorbar": {
              "outlinewidth": 0,
              "ticks": ""
             }
            },
            "type": "scattermap"
           }
          ],
          "scattermapbox": [
           {
            "marker": {
             "colorbar": {
              "outlinewidth": 0,
              "ticks": ""
             }
            },
            "type": "scattermapbox"
           }
          ],
          "scatterpolar": [
           {
            "marker": {
             "colorbar": {
              "outlinewidth": 0,
              "ticks": ""
             }
            },
            "type": "scatterpolar"
           }
          ],
          "scatterpolargl": [
           {
            "marker": {
             "colorbar": {
              "outlinewidth": 0,
              "ticks": ""
             }
            },
            "type": "scatterpolargl"
           }
          ],
          "scatterternary": [
           {
            "marker": {
             "colorbar": {
              "outlinewidth": 0,
              "ticks": ""
             }
            },
            "type": "scatterternary"
           }
          ],
          "surface": [
           {
            "colorbar": {
             "outlinewidth": 0,
             "ticks": ""
            },
            "colorscale": [
             [
              0,
              "#0d0887"
             ],
             [
              0.1111111111111111,
              "#46039f"
             ],
             [
              0.2222222222222222,
              "#7201a8"
             ],
             [
              0.3333333333333333,
              "#9c179e"
             ],
             [
              0.4444444444444444,
              "#bd3786"
             ],
             [
              0.5555555555555556,
              "#d8576b"
             ],
             [
              0.6666666666666666,
              "#ed7953"
             ],
             [
              0.7777777777777778,
              "#fb9f3a"
             ],
             [
              0.8888888888888888,
              "#fdca26"
             ],
             [
              1,
              "#f0f921"
             ]
            ],
            "type": "surface"
           }
          ],
          "table": [
           {
            "cells": {
             "fill": {
              "color": "#EBF0F8"
             },
             "line": {
              "color": "white"
             }
            },
            "header": {
             "fill": {
              "color": "#C8D4E3"
             },
             "line": {
              "color": "white"
             }
            },
            "type": "table"
           }
          ]
         },
         "layout": {
          "annotationdefaults": {
           "arrowcolor": "#2a3f5f",
           "arrowhead": 0,
           "arrowwidth": 1
          },
          "autotypenumbers": "strict",
          "coloraxis": {
           "colorbar": {
            "outlinewidth": 0,
            "ticks": ""
           }
          },
          "colorscale": {
           "diverging": [
            [
             0,
             "#8e0152"
            ],
            [
             0.1,
             "#c51b7d"
            ],
            [
             0.2,
             "#de77ae"
            ],
            [
             0.3,
             "#f1b6da"
            ],
            [
             0.4,
             "#fde0ef"
            ],
            [
             0.5,
             "#f7f7f7"
            ],
            [
             0.6,
             "#e6f5d0"
            ],
            [
             0.7,
             "#b8e186"
            ],
            [
             0.8,
             "#7fbc41"
            ],
            [
             0.9,
             "#4d9221"
            ],
            [
             1,
             "#276419"
            ]
           ],
           "sequential": [
            [
             0,
             "#0d0887"
            ],
            [
             0.1111111111111111,
             "#46039f"
            ],
            [
             0.2222222222222222,
             "#7201a8"
            ],
            [
             0.3333333333333333,
             "#9c179e"
            ],
            [
             0.4444444444444444,
             "#bd3786"
            ],
            [
             0.5555555555555556,
             "#d8576b"
            ],
            [
             0.6666666666666666,
             "#ed7953"
            ],
            [
             0.7777777777777778,
             "#fb9f3a"
            ],
            [
             0.8888888888888888,
             "#fdca26"
            ],
            [
             1,
             "#f0f921"
            ]
           ],
           "sequentialminus": [
            [
             0,
             "#0d0887"
            ],
            [
             0.1111111111111111,
             "#46039f"
            ],
            [
             0.2222222222222222,
             "#7201a8"
            ],
            [
             0.3333333333333333,
             "#9c179e"
            ],
            [
             0.4444444444444444,
             "#bd3786"
            ],
            [
             0.5555555555555556,
             "#d8576b"
            ],
            [
             0.6666666666666666,
             "#ed7953"
            ],
            [
             0.7777777777777778,
             "#fb9f3a"
            ],
            [
             0.8888888888888888,
             "#fdca26"
            ],
            [
             1,
             "#f0f921"
            ]
           ]
          },
          "colorway": [
           "#636efa",
           "#EF553B",
           "#00cc96",
           "#ab63fa",
           "#FFA15A",
           "#19d3f3",
           "#FF6692",
           "#B6E880",
           "#FF97FF",
           "#FECB52"
          ],
          "font": {
           "color": "#2a3f5f"
          },
          "geo": {
           "bgcolor": "white",
           "lakecolor": "white",
           "landcolor": "white",
           "showlakes": true,
           "showland": true,
           "subunitcolor": "#C8D4E3"
          },
          "hoverlabel": {
           "align": "left"
          },
          "hovermode": "closest",
          "mapbox": {
           "style": "light"
          },
          "paper_bgcolor": "white",
          "plot_bgcolor": "white",
          "polar": {
           "angularaxis": {
            "gridcolor": "#EBF0F8",
            "linecolor": "#EBF0F8",
            "ticks": ""
           },
           "bgcolor": "white",
           "radialaxis": {
            "gridcolor": "#EBF0F8",
            "linecolor": "#EBF0F8",
            "ticks": ""
           }
          },
          "scene": {
           "xaxis": {
            "backgroundcolor": "white",
            "gridcolor": "#DFE8F3",
            "gridwidth": 2,
            "linecolor": "#EBF0F8",
            "showbackground": true,
            "ticks": "",
            "zerolinecolor": "#EBF0F8"
           },
           "yaxis": {
            "backgroundcolor": "white",
            "gridcolor": "#DFE8F3",
            "gridwidth": 2,
            "linecolor": "#EBF0F8",
            "showbackground": true,
            "ticks": "",
            "zerolinecolor": "#EBF0F8"
           },
           "zaxis": {
            "backgroundcolor": "white",
            "gridcolor": "#DFE8F3",
            "gridwidth": 2,
            "linecolor": "#EBF0F8",
            "showbackground": true,
            "ticks": "",
            "zerolinecolor": "#EBF0F8"
           }
          },
          "shapedefaults": {
           "line": {
            "color": "#2a3f5f"
           }
          },
          "ternary": {
           "aaxis": {
            "gridcolor": "#DFE8F3",
            "linecolor": "#A2B1C6",
            "ticks": ""
           },
           "baxis": {
            "gridcolor": "#DFE8F3",
            "linecolor": "#A2B1C6",
            "ticks": ""
           },
           "bgcolor": "white",
           "caxis": {
            "gridcolor": "#DFE8F3",
            "linecolor": "#A2B1C6",
            "ticks": ""
           }
          },
          "title": {
           "x": 0.05
          },
          "xaxis": {
           "automargin": true,
           "gridcolor": "#EBF0F8",
           "linecolor": "#EBF0F8",
           "ticks": "",
           "title": {
            "standoff": 15
           },
           "zerolinecolor": "#EBF0F8",
           "zerolinewidth": 2
          },
          "yaxis": {
           "automargin": true,
           "gridcolor": "#EBF0F8",
           "linecolor": "#EBF0F8",
           "ticks": "",
           "title": {
            "standoff": 15
           },
           "zerolinecolor": "#EBF0F8",
           "zerolinewidth": 2
          }
         }
        },
        "title": {
         "text": "Dashboard Analítico - TRAFICOGT",
         "x": 0.5
        },
        "xaxis": {
         "anchor": "y",
         "domain": [
          0,
          0.37
         ],
         "title": {
          "text": "Fecha"
         }
        },
        "xaxis2": {
         "anchor": "y2",
         "domain": [
          0.5700000000000001,
          0.9400000000000001
         ],
         "title": {
          "text": "Frecuencia"
         }
        },
        "xaxis3": {
         "anchor": "y3",
         "domain": [
          0,
          0.37
         ],
         "title": {
          "text": "Hora del día"
         }
        },
        "xaxis4": {
         "anchor": "y5",
         "domain": [
          0.5700000000000001,
          0.9400000000000001
         ],
         "title": {
          "text": "Palabras por tweet"
         }
        },
        "yaxis": {
         "anchor": "x",
         "domain": [
          0.625,
          1
         ],
         "title": {
          "text": "Tweets"
         }
        },
        "yaxis2": {
         "anchor": "x2",
         "domain": [
          0.625,
          1
         ]
        },
        "yaxis3": {
         "anchor": "x3",
         "domain": [
          0,
          0.375
         ],
         "title": {
          "text": "Retweets Promedio"
         }
        },
        "yaxis4": {
         "anchor": "x3",
         "overlaying": "y3",
         "side": "right",
         "title": {
          "text": "Likes Promedio"
         }
        },
        "yaxis5": {
         "anchor": "x4",
         "domain": [
          0,
          0.375
         ],
         "title": {
          "text": "Frecuencia"
         }
        }
       }
      }
     },
     "metadata": {},
     "output_type": "display_data"
    },
    {
     "data": {
      "image/png": "[encoded data removed]",
      "text/plain": [
       "<Figure size 1500x800 with 1 Axes>"
      ]
     },
     "metadata": {},
     "output_type": "display_data"
    },
    {
     "data": {
      "image/png": "[encoded data removed]",
      "text/plain": [
       "<Figure size 1200x800 with 1 Axes>"
      ]
     },
     "metadata": {},
     "output_type": "display_data"
    }
   ],
   "source": [
    "# Configurar estilo de matplotlib\n",
    "plt.style.use('default')\n",
    "sns.set_palette(\"viridis\")\n",
    "\n",
    "def comprehensive_exploratory_analysis(df, name):\n",
    "    \"\"\"Análisis exploratorio exhaustivo del dataset\"\"\"\n",
    "    print(f\"\\n{'='*50}\")\n",
    "    print(f\"ANÁLISIS EXPLORATORIO DETALLADO - {name.upper()}\")\n",
    "    print(f\"{'='*50}\")\n",
    "    \n",
    "    # 1. ESTADÍSTICAS BÁSICAS\n",
    "    print(\"\\n📊 ESTADÍSTICAS BÁSICAS:\")\n",
    "    print(f\"  • Total de tweets: {len(df):,}\")\n",
    "    \n",
    "    unique_users = df[\"user\"].apply(lambda x: x[\"username\"]).nunique()\n",
    "    print(f\"  • Usuarios únicos: {unique_users:,}\")\n",
    "    print(f\"  • Promedio tweets por usuario: {len(df)/unique_users:.2f}\")\n",
    "    \n",
    "    # Análisis de metadatos extraídos\n",
    "    total_mentions = sum(len(mentions) for mentions in df[\"extracted_mentions\"])\n",
    "    total_hashtags = sum(len(hashtags) for hashtags in df[\"extracted_hashtags\"])\n",
    "    total_urls = sum(len(urls) for urls in df[\"extracted_urls\"])\n",
    "    \n",
    "    print(f\"  • Total menciones: {total_mentions:,}\")\n",
    "    print(f\"  • Total hashtags: {total_hashtags:,}\")\n",
    "    print(f\"  • Total URLs: {total_urls:,}\")\n",
    "    \n",
    "    # Tweets con interacciones\n",
    "    tweets_with_mentions = sum(1 for mentions in df[\"extracted_mentions\"] if len(mentions) > 0)\n",
    "    tweets_with_hashtags = sum(1 for hashtags in df[\"extracted_hashtags\"] if len(hashtags) > 0)\n",
    "    \n",
    "    print(f\"  • Tweets con menciones: {tweets_with_mentions:,} ({tweets_with_mentions/len(df)*100:.1f}%)\")\n",
    "    print(f\"  • Tweets con hashtags: {tweets_with_hashtags:,} ({tweets_with_hashtags/len(df)*100:.1f}%)\")\n",
    "    \n",
    "    # 2. ANÁLISIS DE ENGAGEMENT\n",
    "    print(f\"\\n📈 MÉTRICAS DE ENGAGEMENT:\")\n",
    "    total_retweets = df[\"retweetCount\"].sum()\n",
    "    total_likes = df[\"likeCount\"].sum()\n",
    "    avg_retweets = df[\"retweetCount\"].mean()\n",
    "    avg_likes = df[\"likeCount\"].mean()\n",
    "    \n",
    "    print(f\"  • Total retweets: {total_retweets:,}\")\n",
    "    print(f\"  • Total likes: {total_likes:,}\")\n",
    "    print(f\"  • Promedio retweets por tweet: {avg_retweets:.2f}\")\n",
    "    print(f\"  • Promedio likes por tweet: {avg_likes:.2f}\")\n",
    "    \n",
    "    # 3. ANÁLISIS TEMPORAL\n",
    "    print(f\"\\n📅 ANÁLISIS TEMPORAL:\")\n",
    "    df['date_parsed'] = pd.to_datetime(df['date'])\n",
    "    df['date_only'] = df['date_parsed'].dt.date\n",
    "    df['hour'] = df['date_parsed'].dt.hour\n",
    "    \n",
    "    date_range = df['date_parsed'].max() - df['date_parsed'].min()\n",
    "    print(f\"  • Rango de fechas: {date_range.days} días\")\n",
    "    print(f\"  • Fecha más antigua: {df['date_parsed'].min().strftime('%Y-%m-%d %H:%M')}\")\n",
    "    print(f\"  • Fecha más reciente: {df['date_parsed'].max().strftime('%Y-%m-%d %H:%M')}\")\n",
    "    \n",
    "    # 4. ANÁLISIS DE PALABRAS\n",
    "    print(f\"\\n📝 ANÁLISIS DE CONTENIDO:\")\n",
    "    all_words = \" \".join(df[\"text_clean\"]).split()\n",
    "    word_freq = Counter(all_words)\n",
    "    unique_words = len(word_freq)\n",
    "    total_words = sum(word_freq.values())\n",
    "    \n",
    "    print(f\"  • Palabras únicas: {unique_words:,}\")\n",
    "    print(f\"  • Total de palabras: {total_words:,}\")\n",
    "    print(f\"  • Promedio palabras por tweet: {total_words/len(df):.2f}\")\n",
    "    \n",
    "    # Distribución de longitud de tweets\n",
    "    tweet_lengths = df[\"text_clean\"].str.split().str.len()\n",
    "    print(f\"  • Longitud media tweet (palabras): {tweet_lengths.mean():.2f}\")\n",
    "    print(f\"  • Mediana longitud tweet: {tweet_lengths.median():.2f}\")\n",
    "    \n",
    "    # 5. TOP ANÁLISIS\n",
    "    print(f\"\\n🔝 ELEMENTOS MÁS FRECUENTES:\")\n",
    "    \n",
    "    # Top palabras\n",
    "    print(\"  📋 Top 20 palabras más frecuentes:\")\n",
    "    for i, (word, count) in enumerate(word_freq.most_common(20), 1):\n",
    "        percentage = (count/total_words)*100\n",
    "        print(f\"    {i:2d}. {word:15} → {count:4d} veces ({percentage:.2f}%)\")\n",
    "    \n",
    "    # Top menciones\n",
    "    all_mentions = [mention for mentions_list in df[\"extracted_mentions\"] for mention in mentions_list]\n",
    "    if all_mentions:\n",
    "        mention_freq = Counter(all_mentions)\n",
    "        print(f\"\\n  💬 Top 10 usuarios más mencionados:\")\n",
    "        for i, (mention, count) in enumerate(mention_freq.most_common(10), 1):\n",
    "            print(f\"    {i:2d}. @{mention:15} → {count:3d} menciones\")\n",
    "    \n",
    "    # Top hashtags\n",
    "    all_hashtags = [hashtag for hashtags_list in df[\"extracted_hashtags\"] for hashtag in hashtags_list]\n",
    "    if all_hashtags:\n",
    "        hashtag_freq = Counter(all_hashtags)\n",
    "        print(f\"\\n  #️⃣ Top 10 hashtags más usados:\")\n",
    "        for i, (hashtag, count) in enumerate(hashtag_freq.most_common(10), 1):\n",
    "            print(f\"    {i:2d}. #{hashtag:15} → {count:3d} usos\")\n",
    "    \n",
    "    # Top usuarios más activos\n",
    "    user_activity = df[\"user\"].apply(lambda x: x[\"username\"]).value_counts()\n",
    "    print(f\"\\n  👤 Top 10 usuarios más activos:\")\n",
    "    for i, (user, count) in enumerate(user_activity.head(10).items(), 1):\n",
    "        print(f\"    {i:2d}. @{user:15} → {count:3d} tweets\")\n",
    "    \n",
    "    return {\n",
    "        'word_freq': word_freq,\n",
    "        'mention_freq': Counter(all_mentions) if all_mentions else Counter(),\n",
    "        'hashtag_freq': Counter(all_hashtags) if all_hashtags else Counter(),\n",
    "        'user_activity': user_activity,\n",
    "        'df_enhanced': df\n",
    "    }\n",
    "\n",
    "def create_enhanced_visualizations(df, analysis_results, name):\n",
    "    \"\"\"Crear visualizaciones mejoradas\"\"\"\n",
    "    print(f\"\\n🎨 Generando visualizaciones mejoradas para {name}...\")\n",
    "    \n",
    "    # Configurar subplots\n",
    "    fig = make_subplots(\n",
    "        rows=2, cols=2,\n",
    "        subplot_titles=('Distribución Temporal de Tweets', 'Top 15 Palabras Más Frecuentes',\n",
    "                       'Engagement por Hora', 'Distribución de Longitud de Tweets'),\n",
    "        specs=[[{'secondary_y': False}, {'secondary_y': False}],\n",
    "               [{'secondary_y': True}, {'secondary_y': False}]]\n",
    "    )\n",
    "    \n",
    "    # 1. Distribución temporal\n",
    "    daily_counts = df.groupby('date_only').size().reset_index()\n",
    "    daily_counts.columns = ['date', 'count']\n",
    "    \n",
    "    fig.add_trace(\n",
    "        go.Scatter(x=daily_counts['date'], y=daily_counts['count'],\n",
    "                  mode='lines+markers', name='Tweets por día',\n",
    "                  line=dict(color='#1f77b4', width=2)),\n",
    "        row=1, col=1\n",
    "    )\n",
    "    \n",
    "    # 2. Top palabras\n",
    "    top_words = analysis_results['word_freq'].most_common(15)\n",
    "    words, counts = zip(*top_words)\n",
    "    \n",
    "    fig.add_trace(\n",
    "        go.Bar(x=list(counts), y=list(words), orientation='h',\n",
    "               name='Frecuencia palabras', marker_color='#2ca02c'),\n",
    "        row=1, col=2\n",
    "    )\n",
    "    \n",
    "    # 3. Engagement por hora\n",
    "    hourly_stats = df.groupby('hour').agg({\n",
    "        'retweetCount': 'mean',\n",
    "        'likeCount': 'mean',\n",
    "        'id': 'count'\n",
    "    }).round(2)\n",
    "    \n",
    "    fig.add_trace(\n",
    "        go.Bar(x=hourly_stats.index, y=hourly_stats['retweetCount'],\n",
    "               name='Avg Retweets', marker_color='#ff7f0e'),\n",
    "        row=2, col=1\n",
    "    )\n",
    "    \n",
    "    fig.add_trace(\n",
    "        go.Scatter(x=hourly_stats.index, y=hourly_stats['likeCount'],\n",
    "                  mode='lines+markers', name='Avg Likes',\n",
    "                  line=dict(color='#d62728', width=2)),\n",
    "        row=2, col=1, secondary_y=True\n",
    "    )\n",
    "    \n",
    "    # 4. Distribución de longitud\n",
    "    tweet_lengths = df[\"text_clean\"].str.split().str.len()\n",
    "    \n",
    "    fig.add_trace(\n",
    "        go.Histogram(x=tweet_lengths, nbinsx=30, name='Distribución longitud',\n",
    "                    marker_color='#9467bd', opacity=0.7),\n",
    "        row=2, col=2\n",
    "    )\n",
    "    \n",
    "    # Actualizar layout\n",
    "    fig.update_layout(\n",
    "        title_text=f\"Dashboard Analítico - {name.upper()}\",\n",
    "        title_x=0.5,\n",
    "        height=800,\n",
    "        showlegend=True,\n",
    "        template='plotly_white'\n",
    "    )\n",
    "    \n",
    "    # Actualizar ejes\n",
    "    fig.update_yaxes(title_text=\"Tweets\", row=1, col=1)\n",
    "    fig.update_xaxes(title_text=\"Fecha\", row=1, col=1)\n",
    "    fig.update_xaxes(title_text=\"Frecuencia\", row=1, col=2)\n",
    "    fig.update_yaxes(title_text=\"Retweets Promedio\", row=2, col=1)\n",
    "    fig.update_yaxes(title_text=\"Likes Promedio\", row=2, col=1, secondary_y=True)\n",
    "    fig.update_xaxes(title_text=\"Hora del día\", row=2, col=1)\n",
    "    fig.update_xaxes(title_text=\"Palabras por tweet\", row=2, col=2)\n",
    "    fig.update_yaxes(title_text=\"Frecuencia\", row=2, col=2)\n",
    "    \n",
    "    fig.show()\n",
    "    \n",
    "    # Crear nube de palabras mejorada\n",
    "    if len(analysis_results['word_freq']) > 0:\n",
    "        # Filtrar palabras muy comunes para mejor visualización\n",
    "        filtered_words = {word: freq for word, freq in analysis_results['word_freq'].items() \n",
    "                         if freq > 2 and len(word) > 2}\n",
    "        \n",
    "        wc = WordCloud(\n",
    "            width=1200, \n",
    "            height=600, \n",
    "            background_color=\"white\",\n",
    "            max_words=100,\n",
    "            colormap='plasma',\n",
    "            relative_scaling=0.5,\n",
    "            min_font_size=10\n",
    "        ).generate_from_frequencies(filtered_words)\n",
    "        \n",
    "        plt.figure(figsize=(15, 8))\n",
    "        plt.imshow(wc, interpolation=\"bilinear\")\n",
    "        plt.axis(\"off\")\n",
    "        plt.title(f\"Nube de Palabras Mejorada - {name.upper()}\", \n",
    "                 fontsize=16, fontweight='bold', pad=20)\n",
    "        plt.tight_layout()\n",
    "        plt.show()\n",
    "    \n",
    "    # Gráfico de red de menciones principales (preparación para paso 5)\n",
    "    if analysis_results['mention_freq']:\n",
    "        top_mentions = dict(analysis_results['mention_freq'].most_common(20))\n",
    "        \n",
    "        plt.figure(figsize=(12, 8))\n",
    "        mentions = list(top_mentions.keys())\n",
    "        counts = list(top_mentions.values())\n",
    "        \n",
    "        bars = plt.barh(range(len(mentions)), counts, color='skyblue', alpha=0.8)\n",
    "        plt.yticks(range(len(mentions)), [f'@{m}' for m in mentions])\n",
    "        plt.xlabel('Número de Menciones', fontsize=12)\n",
    "        plt.title(f'Top 20 Usuarios Más Mencionados - {name.upper()}', \n",
    "                 fontsize=14, fontweight='bold')\n",
    "        plt.gca().invert_yaxis()\n",
    "        \n",
    "        # Añadir valores en las barras\n",
    "        for i, bar in enumerate(bars):\n",
    "            width = bar.get_width()\n",
    "            plt.text(width + 0.5, bar.get_y() + bar.get_height()/2, \n",
    "                    f'{int(width)}', ha='left', va='center', fontsize=9)\n",
    "        \n",
    "        plt.tight_layout()\n",
    "        plt.show()\n",
    "\n",
    "# Ejecutar análisis exploratorio exhaustivo\n",
    "analysis_results = comprehensive_exploratory_analysis(traficogt_df, \"traficogt\")\n",
    "\n",
    "# Generar visualizaciones mejoradas\n",
    "create_enhanced_visualizations(traficogt_df, analysis_results, \"traficogt\")"
   ]
  },
  {
   "cell_type": "markdown",
   "id": "19316bc6",
   "metadata": {},
   "source": [
    "### Análisis Exhaustivo de Resultados Exploratorios\n",
    "\n",
    "Con base en el análisis exploratorio mejorado realizado, podemos responder de manera más exhaustiva a nuestras preguntas de investigación:\n",
    "\n",
    "#### **Pregunta 1: ¿Qué usuarios son los más mencionados en el dataset de @traficogt?**\n",
    "\n",
    "**Hallazgos principales:**\n",
    "- **Red altamente interactiva**: Con 5,149 tweets de 1,955 usuarios únicos generando menciones masivas\n",
    "- **Concentración de influencia**: Los usuarios más mencionados representan puntos clave de información en la red social guatemalteca\n",
    "- **Temas dominantes**: Los usuarios mencionados se relacionan principalmente con:\n",
    "  - **Autoridades gubernamentales** y cuentas oficiales\n",
    "  - **Medios de comunicación** especializados en tráfico y noticias\n",
    "  - **Ciudadanos activos** que reportan situaciones de tráfico\n",
    "\n",
    "**Impacto en la red:**\n",
    "- Las menciones crean **nodos centrales** de información\n",
    "- Usuarios como `@traficogt` actúan como **agregadores de contenido**\n",
    "- Existe un **ecosistema de información** donde ciertos usuarios amplifican mensajes\n",
    "\n",
    "#### **Pregunta 2: ¿Cuál es la densidad de interacciones y patrones temporales en la red de @traficogt?**\n",
    "\n",
    "**Densidad de la red:**\n",
    "- **Ratio menciones/tweets**: Aproximadamente 1.9 menciones por tweet (9,695 menciones / 5,149 tweets)\n",
    "- **Participación activa**: 67.3% de tweets contienen menciones\n",
    "- **Conectividad**: 4.96 menciones promedio por usuario único\n",
    "\n",
    "**Patrones temporales identificados:**\n",
    "- **Variabilidad diaria**: Actividad fluctuante según eventos de tráfico\n",
    "- **Patrones horarios**: Mayor actividad durante horas pico de tráfico (análisis por hora del día)\n",
    "- **Engagement diferencial**: Ciertos horarios muestran mayor interacción (retweets y likes)\n",
    "\n",
    "**Métricas de engagement:**\n",
    "- **Engagement moderado**: Los tweets generan interacción pero no de manera masiva\n",
    "- **Distribución heterogénea**: Algunos tweets virales contrastan con la mayoría de bajo engagement\n",
    "\n",
    "#### **Pregunta 3: ¿Qué temas y narrativas emergen del análisis de contenido?**\n",
    "\n",
    "**Temas principales identificados (análisis de frecuencia de palabras):**\n",
    "\n",
    "1. **Política y Gobierno Guatemalteco** (terms: guatemala, presidente, gobierno, congreso)\n",
    "   - Discusiones sobre administración pública\n",
    "   - Críticas y observaciones ciudadanas\n",
    "   - Menciones a políticas de tráfico y transporte\n",
    "\n",
    "2. **Anticorrupción y Transparencia** (terms: corruptos, corrupción, ley)\n",
    "   - Denuncias ciudadanas\n",
    "   - Llamados a la transparencia\n",
    "   - Críticas a instituciones\n",
    "\n",
    "3. **Participación Ciudadana** (terms: pueblo, ciudadanos, semilla)\n",
    "   - Movilización social\n",
    "   - Expresiones de descontento\n",
    "   - Organización ciudadana\n",
    "\n",
    "**Narrativas emergentes:**\n",
    "- **Crítica institucional**: Fuerte componente de crítica hacia autoridades\n",
    "- **Demanda de transparencia**: Exigencia de rendición de cuentas\n",
    "- **Activismo digital**: Uso de Twitter como plataforma de denuncia y organización\n",
    "\n",
    "#### **Pregunta 4: ¿Cómo se estructura la red de información en torno al tráfico guatemalteco?**\n",
    "\n",
    "**Estructura de la red:**\n",
    "- **Nodos centrales**: Cuentas oficiales y medios actúan como distribuidores primarios\n",
    "- **Amplificadores**: Usuarios activos que retransmiten información\n",
    "- **Reporteros ciudadanos**: Individuos que generan contenido original sobre tráfico\n",
    "\n",
    "**Flujo de información:**\n",
    "1. **Fuentes primarias**: Reportes oficiales y observaciones directas\n",
    "2. **Agregación**: Cuentas como @traficogt consolidan información\n",
    "3. **Amplificación**: La comunidad retransmite y comenta\n",
    "4. **Contextualización**: Se añade contexto político y social"
   ]
  },
  {
   "cell_type": "markdown",
   "id": "xqdkf05cp3o",
   "metadata": {},
   "source": [
    "## 5. Análisis de la Topología de la Red\n",
    "\n",
    "En esta sección construiremos y analizaremos la red social basada en las menciones entre usuarios. Implementaremos:\n",
    "\n",
    "- **Construcción del grafo dirigido** basado en menciones\n",
    "- **Métricas topológicas fundamentales**: densidad, diámetro, coeficiente de agrupamiento\n",
    "- **Visualización interactiva** de la red con diferentes layouts\n",
    "- **Análisis de componentes conectados** y estructura general\n",
    "- **Identificación de nodos más conectados** y relaciones de poder"
   ]
  },
  {
   "cell_type": "code",
   "execution_count": null,
   "id": "az5uiypfrud",
   "metadata": {},
   "outputs": [
    {
     "name": "stdout",
     "output_type": "stream",
     "text": [
      "🔨 Construyendo red de menciones...\n",
      "✅ Red construida:\n",
      "   • Nodos (usuarios): 2,632\n",
      "   • Aristas (menciones únicas): 6,751\n",
      "   • Total de menciones: 9,808\n",
      "   • Menciones únicas: 6,751\n",
      "\n",
      "📊 ANÁLISIS TOPOLÓGICO DE LA RED\n",
      "==================================================\n",
      "\n",
      "🔍 ESTADÍSTICAS BÁSICAS:\n",
      "   • Nodos: 2,632\n",
      "   • Aristas: 6,751\n",
      "   • Densidad: 0.000975 (0.0975%)\n",
      "\n",
      "🔗 CONECTIVIDAD:\n",
      "   • Componentes débilmente conectados: 26\n",
      "   • Componentes fuertemente conectados: 2587\n",
      "   • Tamaño del componente gigante: 2607 (99.1%)\n",
      "\n",
      "🌐 ANÁLISIS DEL COMPONENTE GIGANTE:\n",
      "   • Coeficiente de clustering promedio: 0.2228\n",
      "   • Transitividad global: 0.0044\n",
      "   • Diámetro: 7\n",
      "   • Longitud promedio de camino más corto: 2.602\n",
      "\n",
      "📈 DISTRIBUCIÓN DE GRADOS:\n",
      "   • Grado de entrada promedio: 2.56\n",
      "   • Grado de salida promedio: 2.56\n",
      "   • Grado total promedio: 5.15\n",
      "   • Grado máximo (entrada): 1779\n",
      "   • Grado máximo (salida): 108\n",
      "\n",
      "🔝 TOP NODOS POR GRADO:\n",
      "   📥 Más mencionados (in-degree):\n",
      "       1. @traficogt            → 1779 menciones\n",
      "       2. @barevalodeleon       → 311 menciones\n",
      "       3. @drgiammattei         → 123 menciones\n",
      "       4. @prensacomunitar      → 111 menciones\n",
      "       5. @mmendoza_gt          →  97 menciones\n",
      "       6. @mpguatemala          →  95 menciones\n",
      "       7. @amilcarmontejo       →  84 menciones\n",
      "       8. @lahoragt             →  84 menciones\n",
      "       9. @cc_guatemala         →  74 menciones\n",
      "      10. @muniguate            →  56 menciones\n",
      "   📤 Más activos mencionando (out-degree):\n",
      "       1. @batallonjalapa       → 108 menciones hechas\n",
      "       2. @mildred_gaitan       →  91 menciones hechas\n",
      "       3. @traficogt            →  47 menciones hechas\n",
      "       4. @cubreserva           →  45 menciones hechas\n",
      "       5. @giovanottigt         →  39 menciones hechas\n",
      "       6. @erwin15              →  37 menciones hechas\n",
      "       7. @mariacdeleon1        →  33 menciones hechas\n",
      "       8. @erosan3edsa          →  32 menciones hechas\n",
      "       9. @edwadriperez         →  31 menciones hechas\n",
      "      10. @hellboy17oc          →  31 menciones hechas\n",
      "\n",
      "🎨 Generando visualizaciones de la red...\n",
      "   📊 Visualizando top 50 nodos más conectados\n"
     ]
    },
    {
     "data": {
      "application/vnd.plotly.v1+json": {
       "config": {
        "plotlyServerURL": "https://plot.ly"
       },
       "data": [
        {
         "hoverinfo": "none",
         "line": {
          "color": "rgba(125,125,125,0.3)",
          "width": 0.5
         },
         "mode": "lines",
         "name": "Menciones",
         "type": "scatter",
         "x": [
          -0.1071798046597238,
          -0.6094306147186143,
          null,
          -0.1071798046597238,
          -0.6124887814410632,
          null,
          -0.1071798046597238,
          0.28570417132029186,
          null,
          -0.1071798046597238,
          -0.3005759935540546,
          null,
          -0.1071798046597238,
          0.0082896716842586,
          null,
          -0.1071798046597238,
          -0.47177318621762004,
          null,
          -0.1071798046597238,
          0.4530692357767408,
          null,
          -0.1071798046597238,
          -0.4603027010024319,
          null,
          -0.1071798046597238,
          -0.7868589292670773,
          null,
          -0.1071798046597238,
          0.7750416851762468,
          null,
          -0.1071798046597238,
          0.5657031011961978,
          null,
          -0.1071798046597238,
          -0.21452808545659507,
          null,
          0.8603512756713584,
          0.9593372098119651,
          null,
          0.8603512756713584,
          0.28570417132029186,
          null,
          0.8603512756713584,
          -0.7868589292670773,
          null,
          -0.8047979413353346,
          -0.6124887814410632,
          null,
          -0.8047979413353346,
          0.6832907510160143,
          null,
          -0.8047979413353346,
          0.28570417132029186,
          null,
          -0.8047979413353346,
          -0.7182024307859627,
          null,
          -0.8047979413353346,
          -0.47177318621762004,
          null,
          -0.8047979413353346,
          -0.3005759935540546,
          null,
          -0.8047979413353346,
          -0.5980477534588149,
          null,
          -0.8047979413353346,
          0.7750416851762468,
          null,
          -0.8047979413353346,
          0.4530692357767408,
          null,
          0.40292704068529384,
          0.8752282565423509,
          null,
          -0.6094306147186143,
          -0.6124887814410632,
          null,
          -0.6094306147186143,
          0.5657031011961978,
          null,
          -0.6094306147186143,
          -0.47177318621762004,
          null,
          -0.6094306147186143,
          0.4530692357767408,
          null,
          -0.6094306147186143,
          -0.21452808545659507,
          null,
          -0.597873646368043,
          0.8770387928194737,
          null,
          0.4530692357767408,
          -0.47177318621762004,
          null,
          -0.4689716477849061,
          -0.6124887814410632,
          null,
          -0.4689716477849061,
          0.4530692357767408,
          null,
          -0.4689716477849061,
          0.9593372098119651,
          null,
          -0.4689716477849061,
          -0.21452808545659507,
          null,
          -0.4689716477849061,
          0.3260784695977618,
          null,
          -0.4689716477849061,
          -0.7868589292670773,
          null,
          -0.4689716477849061,
          -0.47177318621762004,
          null,
          -0.4689716477849061,
          -0.5980477534588149,
          null,
          -0.4689716477849061,
          -0.3005759935540546,
          null,
          -0.4689716477849061,
          0.9507827841641516,
          null,
          -0.4689716477849061,
          -0.2480922568731954,
          null,
          -0.4689716477849061,
          -0.7182024307859627,
          null,
          -0.4689716477849061,
          0.6832907510160143,
          null,
          -0.4689716477849061,
          -0.8474504253288532,
          null,
          -0.4689716477849061,
          0.5657031011961978,
          null,
          -0.3907697634623241,
          0.28570417132029186,
          null,
          0.8770387928194737,
          -0.597873646368043,
          null,
          -0.3005759935540546,
          0.28570417132029186,
          null,
          -0.3005759935540546,
          -0.8207610641438821,
          null,
          -0.3005759935540546,
          0.9360392072761015,
          null,
          0.7750416851762468,
          -0.47177318621762004,
          null,
          0.7750416851762468,
          0.4530692357767408,
          null,
          -0.8474504253288532,
          -0.21452808545659507,
          null,
          -0.21452808545659507,
          0.28570417132029186,
          null,
          0.0998420377996846,
          -0.21452808545659507,
          null,
          0.37614405461533423,
          0.8660995377328247,
          null,
          0.37614405461533423,
          0.6803261790207163,
          null,
          0.37614405461533423,
          0.8752282565423509,
          null,
          0.37614405461533423,
          0.0082896716842586,
          null,
          0.37614405461533423,
          -0.6124887814410632,
          null,
          0.37614405461533423,
          0.0998420377996846,
          null,
          0.37614405461533423,
          -0.8207610641438821,
          null,
          0.37614405461533423,
          -0.23454902143947148,
          null,
          0.37614405461533423,
          0.7750416851762468,
          null,
          0.37614405461533423,
          -0.3907697634623241,
          null,
          0.37614405461533423,
          -0.5980477534588149,
          null,
          0.37614405461533423,
          -0.2480922568731954,
          null,
          0.37614405461533423,
          0.5657031011961978,
          null,
          0.37614405461533423,
          0.26137090016245496,
          null,
          0.37614405461533423,
          -0.05625708888841127,
          null,
          0.05547240093192715,
          -0.05625708888841127,
          null,
          0.05547240093192715,
          -0.6124887814410632,
          null,
          0.05547240093192715,
          -0.8207610641438821,
          null,
          0.05547240093192715,
          -0.6094306147186143,
          null,
          0.05547240093192715,
          0.7750416851762468,
          null,
          0.05547240093192715,
          -0.5980477534588149,
          null,
          0.05547240093192715,
          -0.21452808545659507,
          null,
          0.05547240093192715,
          -0.3907697634623241,
          null,
          0.05547240093192715,
          -0.3005759935540546,
          null,
          -0.8523207361781914,
          -0.47177318621762004,
          null,
          -0.5980477534588149,
          -0.21452808545659507,
          null,
          -0.23454902143947148,
          -0.724787990020377,
          null,
          -0.23454902143947148,
          -0.597873646368043,
          null,
          -0.19367465905837056,
          -0.6124887814410632,
          null,
          -0.19367465905837056,
          -0.47177318621762004,
          null,
          -0.19367465905837056,
          -0.2480922568731954,
          null,
          -0.19367465905837056,
          -0.5980477534588149,
          null,
          -0.19367465905837056,
          0.4530692357767408,
          null,
          -0.19367465905837056,
          -0.3907697634623241,
          null,
          -0.19367465905837056,
          0.28570417132029186,
          null,
          -0.19367465905837056,
          0.9507827841641516,
          null,
          -0.19367465905837056,
          -0.3005759935540546,
          null,
          -0.19367465905837056,
          0.26137090016245496,
          null,
          -0.19367465905837056,
          -0.21452808545659507,
          null,
          -0.19367465905837056,
          0.3260784695977618,
          null,
          -0.19367465905837056,
          -0.05625708888841127,
          null,
          -0.19367465905837056,
          0.0998420377996846,
          null,
          -0.19367465905837056,
          -0.7868589292670773,
          null,
          -0.19367465905837056,
          0.8603512756713584,
          null,
          -0.19367465905837056,
          0.5657031011961978,
          null,
          -0.19367465905837056,
          -0.4603027010024319,
          null,
          -0.19367465905837056,
          -0.6094306147186143,
          null,
          -0.19367465905837056,
          0.6803261790207163,
          null,
          -0.19367465905837056,
          -0.23454902143947148,
          null,
          -0.19367465905837056,
          -0.724787990020377,
          null,
          -0.19367465905837056,
          -0.7182024307859627,
          null,
          -0.19367465905837056,
          0.6832907510160143,
          null,
          -0.19367465905837056,
          0.9999999999999999,
          null,
          -0.19367465905837056,
          0.40292704068529384,
          null,
          -0.19367465905837056,
          0.7750416851762468,
          null,
          -0.19367465905837056,
          0.8770387928194737,
          null,
          -0.6124887814410632,
          -0.21452808545659507,
          null,
          -0.6124887814410632,
          -0.47177318621762004,
          null,
          -0.6124887814410632,
          -0.2480922568731954,
          null,
          -0.6124887814410632,
          -0.8474504253288532,
          null,
          -0.6124887814410632,
          0.0082896716842586,
          null,
          -0.6124887814410632,
          0.4530692357767408,
          null,
          -0.6124887814410632,
          -0.7868589292670773,
          null,
          -0.6124887814410632,
          -0.7182024307859627,
          null,
          -0.6124887814410632,
          -0.5980477534588149,
          null,
          -0.6124887814410632,
          0.7750416851762468,
          null,
          -0.6124887814410632,
          0.0998420377996846,
          null,
          0.5657031011961978,
          0.4530692357767408,
          null,
          0.38370120490358284,
          -0.6124887814410632,
          null,
          0.38370120490358284,
          0.26137090016245496,
          null,
          0.38370120490358284,
          -0.7868589292670773,
          null,
          0.38370120490358284,
          -0.47177318621762004,
          null,
          0.38370120490358284,
          -0.4603027010024319,
          null,
          0.38370120490358284,
          0.7750416851762468,
          null,
          0.38370120490358284,
          -0.8207610641438821,
          null,
          0.38370120490358284,
          -0.3005759935540546,
          null,
          0.38370120490358284,
          0.9360392072761015,
          null,
          0.38370120490358284,
          0.4530692357767408,
          null,
          -0.1941734332172029,
          -0.3005759935540546,
          null,
          -0.1941734332172029,
          -0.6124887814410632,
          null,
          -0.1941734332172029,
          -0.3907697634623241,
          null,
          -0.1941734332172029,
          0.5657031011961978,
          null,
          -0.1941734332172029,
          -0.5980477534588149,
          null,
          -0.1941734332172029,
          -0.05625708888841127,
          null,
          -0.1941734332172029,
          0.28570417132029186,
          null,
          -0.1941734332172029,
          -0.7182024307859627,
          null,
          -0.1941734332172029,
          0.26137090016245496,
          null,
          -0.1941734332172029,
          0.9507827841641516,
          null,
          -0.1941734332172029,
          0.7750416851762468,
          null,
          -0.1941734332172029,
          0.6832907510160143,
          null,
          -0.1941734332172029,
          -0.23454902143947148,
          null,
          -0.1941734332172029,
          -0.724787990020377,
          null,
          -0.1941734332172029,
          -0.21452808545659507,
          null,
          -0.1941734332172029,
          0.6803261790207163,
          null,
          -0.1941734332172029,
          -0.4603027010024319,
          null,
          -0.1941734332172029,
          -0.6094306147186143,
          null,
          -0.1941734332172029,
          0.8770387928194737,
          null,
          -0.1941734332172029,
          -0.597873646368043,
          null,
          -0.1941734332172029,
          -0.8207610641438821,
          null,
          -0.1941734332172029,
          0.8660995377328247,
          null,
          -0.1941734332172029,
          0.4530692357767408,
          null,
          -0.1941734332172029,
          -0.47177318621762004,
          null,
          -0.1941734332172029,
          0.0998420377996846,
          null,
          -0.1941734332172029,
          0.8603512756713584,
          null,
          -0.1941734332172029,
          0.9360392072761015,
          null,
          0.08350973626966075,
          -0.6124887814410632,
          null,
          0.08350973626966075,
          -0.23454902143947148,
          null,
          0.08350973626966075,
          -0.724787990020377,
          null,
          0.08350973626966075,
          0.3260784695977618,
          null,
          0.08350973626966075,
          -0.47177318621762004,
          null,
          0.08350973626966075,
          -0.3005759935540546,
          null,
          0.08350973626966075,
          0.40292704068529384,
          null,
          0.08350973626966075,
          0.6803261790207163,
          null,
          0.08350973626966075,
          0.4530692357767408,
          null,
          0.08350973626966075,
          -0.2480922568731954,
          null,
          0.08350973626966075,
          0.9593372098119651,
          null,
          0.08350973626966075,
          0.7750416851762468,
          null,
          0.08350973626966075,
          0.0998420377996846,
          null,
          -0.21137052766514083,
          -0.6124887814410632,
          null,
          -0.21137052766514083,
          -0.3907697634623241,
          null,
          -0.21137052766514083,
          -0.47177318621762004,
          null,
          -0.21137052766514083,
          0.9507827841641516,
          null,
          -0.21137052766514083,
          -0.2480922568731954,
          null,
          -0.21137052766514083,
          0.40292704068529384,
          null,
          -0.21137052766514083,
          0.7750416851762468,
          null,
          -0.21137052766514083,
          -0.5980477534588149,
          null,
          -0.2480922568731954,
          0.9593372098119651,
          null,
          -0.2480922568731954,
          -0.47177318621762004,
          null,
          -0.2480922568731954,
          -0.7868589292670773,
          null,
          -0.2480922568731954,
          -0.8207610641438821,
          null,
          -0.2480922568731954,
          0.28570417132029186,
          null,
          -0.2480922568731954,
          0.4530692357767408,
          null,
          0.6832907510160143,
          -0.47177318621762004,
          null,
          0.6832907510160143,
          -0.4603027010024319,
          null,
          0.6832907510160143,
          0.0082896716842586,
          null,
          0.6832907510160143,
          -0.7182024307859627,
          null,
          0.6832907510160143,
          0.28570417132029186,
          null,
          0.6832907510160143,
          -0.21452808545659507,
          null,
          0.6832907510160143,
          0.9360392072761015,
          null,
          0.3608798560034509,
          0.9507827841641516,
          null,
          0.3608798560034509,
          -0.6124887814410632,
          null,
          0.3608798560034509,
          0.7750416851762468,
          null,
          0.3608798560034509,
          0.26137090016245496,
          null,
          0.3608798560034509,
          0.6832907510160143,
          null,
          0.3608798560034509,
          0.28570417132029186,
          null,
          0.3608798560034509,
          -0.8474504253288532,
          null,
          0.3608798560034509,
          -0.6094306147186143,
          null,
          0.3608798560034509,
          -0.47177318621762004,
          null,
          0.3608798560034509,
          -0.8523207361781914,
          null,
          0.3608798560034509,
          -0.7182024307859627,
          null,
          0.3608798560034509,
          0.8770387928194737,
          null,
          0.3608798560034509,
          -0.597873646368043,
          null,
          0.3608798560034509,
          -0.4603027010024319,
          null,
          0.3608798560034509,
          -0.3005759935540546,
          null,
          -0.8376928716873216,
          -0.6124887814410632,
          null,
          -0.8376928716873216,
          0.0082896716842586,
          null,
          -0.8376928716873216,
          -0.21452808545659507,
          null,
          -0.8376928716873216,
          -0.05625708888841127,
          null,
          -0.8376928716873216,
          0.26137090016245496,
          null,
          -0.8376928716873216,
          0.5657031011961978,
          null,
          -0.8376928716873216,
          -0.3005759935540546,
          null,
          -0.8376928716873216,
          0.0998420377996846,
          null,
          -0.8376928716873216,
          -0.5980477534588149,
          null,
          -0.8376928716873216,
          0.8660995377328247,
          null,
          -0.8376928716873216,
          -0.7868589292670773,
          null,
          -0.8376928716873216,
          0.3260784695977618,
          null,
          -0.8376928716873216,
          -0.47177318621762004,
          null,
          -0.8376928716873216,
          -0.4603027010024319,
          null,
          -0.8376928716873216,
          -0.8207610641438821,
          null,
          -0.8376928716873216,
          -0.8523207361781914,
          null,
          0.9507827841641516,
          0.3260784695977618,
          null,
          -0.763296206164861,
          -0.6124887814410632,
          null,
          -0.763296206164861,
          -0.21452808545659507,
          null,
          -0.763296206164861,
          -0.47177318621762004,
          null,
          -0.763296206164861,
          0.28570417132029186,
          null,
          -0.763296206164861,
          -0.6094306147186143,
          null,
          -0.763296206164861,
          0.4530692357767408,
          null
         ],
         "y": [
          0.9133924336121294,
          0.7400960146885557,
          null,
          0.9133924336121294,
          0.1346931680887622,
          null,
          0.9133924336121294,
          0.7094623870259431,
          null,
          0.9133924336121294,
          -0.8858028762907947,
          null,
          0.9133924336121294,
          0.8667757158105226,
          null,
          0.9133924336121294,
          0.7528582551086501,
          null,
          0.9133924336121294,
          -0.8607225894513627,
          null,
          0.9133924336121294,
          -0.8105062153696194,
          null,
          0.9133924336121294,
          -0.4507029938156949,
          null,
          0.9133924336121294,
          -0.5287252993433208,
          null,
          0.9133924336121294,
          0.739552255455448,
          null,
          0.9133924336121294,
          0.80938841487089,
          null,
          0.38931971781598906,
          0.10967824624219698,
          null,
          0.38931971781598906,
          0.7094623870259431,
          null,
          0.38931971781598906,
          -0.4507029938156949,
          null,
          0.41768353798138896,
          0.1346931680887622,
          null,
          0.41768353798138896,
          0.6196765077665056,
          null,
          0.41768353798138896,
          0.7094623870259431,
          null,
          0.41768353798138896,
          -0.16819135046876987,
          null,
          0.41768353798138896,
          0.7528582551086501,
          null,
          0.41768353798138896,
          -0.8858028762907947,
          null,
          0.41768353798138896,
          0.5282540416160676,
          null,
          0.41768353798138896,
          -0.5287252993433208,
          null,
          0.41768353798138896,
          -0.8607225894513627,
          null,
          0.7975817077852252,
          -0.07386718200381144,
          null,
          0.7400960146885557,
          0.1346931680887622,
          null,
          0.7400960146885557,
          0.739552255455448,
          null,
          0.7400960146885557,
          0.7528582551086501,
          null,
          0.7400960146885557,
          -0.8607225894513627,
          null,
          0.7400960146885557,
          0.80938841487089,
          null,
          -0.6783858016523288,
          0.5608117236409589,
          null,
          -0.8607225894513627,
          0.7528582551086501,
          null,
          -0.30294676024916145,
          0.1346931680887622,
          null,
          -0.30294676024916145,
          -0.8607225894513627,
          null,
          -0.30294676024916145,
          0.10967824624219698,
          null,
          -0.30294676024916145,
          0.80938841487089,
          null,
          -0.30294676024916145,
          -0.8343140468907145,
          null,
          -0.30294676024916145,
          -0.4507029938156949,
          null,
          -0.30294676024916145,
          0.7528582551086501,
          null,
          -0.30294676024916145,
          0.5282540416160676,
          null,
          -0.30294676024916145,
          -0.8858028762907947,
          null,
          -0.30294676024916145,
          -0.19786021564047204,
          null,
          -0.30294676024916145,
          -0.671932376443623,
          null,
          -0.30294676024916145,
          -0.16819135046876987,
          null,
          -0.30294676024916145,
          0.6196765077665056,
          null,
          -0.30294676024916145,
          -0.08613709635113886,
          null,
          -0.30294676024916145,
          0.739552255455448,
          null,
          0.863536663695596,
          0.7094623870259431,
          null,
          0.5608117236409589,
          -0.6783858016523288,
          null,
          -0.8858028762907947,
          0.7094623870259431,
          null,
          -0.8858028762907947,
          0.04483205954328399,
          null,
          -0.8858028762907947,
          -0.35457840354622705,
          null,
          -0.5287252993433208,
          0.7528582551086501,
          null,
          -0.5287252993433208,
          -0.8607225894513627,
          null,
          -0.08613709635113886,
          0.80938841487089,
          null,
          0.80938841487089,
          0.7094623870259431,
          null,
          -0.9247265173457733,
          0.80938841487089,
          null,
          0.2921953085841572,
          -0.5394668833744336,
          null,
          0.2921953085841572,
          -0.689832361866273,
          null,
          0.2921953085841572,
          -0.07386718200381144,
          null,
          0.2921953085841572,
          0.8667757158105226,
          null,
          0.2921953085841572,
          0.1346931680887622,
          null,
          0.2921953085841572,
          -0.9247265173457733,
          null,
          0.2921953085841572,
          0.04483205954328399,
          null,
          0.2921953085841572,
          0.9228573565400265,
          null,
          0.2921953085841572,
          -0.5287252993433208,
          null,
          0.2921953085841572,
          0.863536663695596,
          null,
          0.2921953085841572,
          0.5282540416160676,
          null,
          0.2921953085841572,
          -0.671932376443623,
          null,
          0.2921953085841572,
          0.739552255455448,
          null,
          0.2921953085841572,
          -0.9549249822632772,
          null,
          0.2921953085841572,
          -0.870308835744537,
          null,
          0.8438844554605401,
          -0.870308835744537,
          null,
          0.8438844554605401,
          0.1346931680887622,
          null,
          0.8438844554605401,
          0.04483205954328399,
          null,
          0.8438844554605401,
          0.7400960146885557,
          null,
          0.8438844554605401,
          -0.5287252993433208,
          null,
          0.8438844554605401,
          0.5282540416160676,
          null,
          0.8438844554605401,
          0.80938841487089,
          null,
          0.8438844554605401,
          0.863536663695596,
          null,
          0.8438844554605401,
          -0.8858028762907947,
          null,
          -0.26016081366133514,
          0.7528582551086501,
          null,
          0.5282540416160676,
          0.80938841487089,
          null,
          0.9228573565400265,
          0.588216006339653,
          null,
          0.9228573565400265,
          -0.6783858016523288,
          null,
          0.05920586882295911,
          0.1346931680887622,
          null,
          0.05920586882295911,
          0.7528582551086501,
          null,
          0.05920586882295911,
          -0.671932376443623,
          null,
          0.05920586882295911,
          0.5282540416160676,
          null,
          0.05920586882295911,
          -0.8607225894513627,
          null,
          0.05920586882295911,
          0.863536663695596,
          null,
          0.05920586882295911,
          0.7094623870259431,
          null,
          0.05920586882295911,
          -0.19786021564047204,
          null,
          0.05920586882295911,
          -0.8858028762907947,
          null,
          0.05920586882295911,
          -0.9549249822632772,
          null,
          0.05920586882295911,
          0.80938841487089,
          null,
          0.05920586882295911,
          -0.8343140468907145,
          null,
          0.05920586882295911,
          -0.870308835744537,
          null,
          0.05920586882295911,
          -0.9247265173457733,
          null,
          0.05920586882295911,
          -0.4507029938156949,
          null,
          0.05920586882295911,
          0.38931971781598906,
          null,
          0.05920586882295911,
          0.739552255455448,
          null,
          0.05920586882295911,
          -0.8105062153696194,
          null,
          0.05920586882295911,
          0.7400960146885557,
          null,
          0.05920586882295911,
          -0.689832361866273,
          null,
          0.05920586882295911,
          0.9228573565400265,
          null,
          0.05920586882295911,
          0.588216006339653,
          null,
          0.05920586882295911,
          -0.16819135046876987,
          null,
          0.05920586882295911,
          0.6196765077665056,
          null,
          0.05920586882295911,
          0.30206653564290786,
          null,
          0.05920586882295911,
          0.7975817077852252,
          null,
          0.05920586882295911,
          -0.5287252993433208,
          null,
          0.05920586882295911,
          0.5608117236409589,
          null,
          0.1346931680887622,
          0.80938841487089,
          null,
          0.1346931680887622,
          0.7528582551086501,
          null,
          0.1346931680887622,
          -0.671932376443623,
          null,
          0.1346931680887622,
          -0.08613709635113886,
          null,
          0.1346931680887622,
          0.8667757158105226,
          null,
          0.1346931680887622,
          -0.8607225894513627,
          null,
          0.1346931680887622,
          -0.4507029938156949,
          null,
          0.1346931680887622,
          -0.16819135046876987,
          null,
          0.1346931680887622,
          0.5282540416160676,
          null,
          0.1346931680887622,
          -0.5287252993433208,
          null,
          0.1346931680887622,
          -0.9247265173457733,
          null,
          0.739552255455448,
          -0.8607225894513627,
          null,
          -0.6669303620765542,
          0.1346931680887622,
          null,
          -0.6669303620765542,
          -0.9549249822632772,
          null,
          -0.6669303620765542,
          -0.4507029938156949,
          null,
          -0.6669303620765542,
          0.7528582551086501,
          null,
          -0.6669303620765542,
          -0.8105062153696194,
          null,
          -0.6669303620765542,
          -0.5287252993433208,
          null,
          -0.6669303620765542,
          0.04483205954328399,
          null,
          -0.6669303620765542,
          -0.8858028762907947,
          null,
          -0.6669303620765542,
          -0.35457840354622705,
          null,
          -0.6669303620765542,
          -0.8607225894513627,
          null,
          -0.056184321048648234,
          -0.8858028762907947,
          null,
          -0.056184321048648234,
          0.1346931680887622,
          null,
          -0.056184321048648234,
          0.863536663695596,
          null,
          -0.056184321048648234,
          0.739552255455448,
          null,
          -0.056184321048648234,
          0.5282540416160676,
          null,
          -0.056184321048648234,
          -0.870308835744537,
          null,
          -0.056184321048648234,
          0.7094623870259431,
          null,
          -0.056184321048648234,
          -0.16819135046876987,
          null,
          -0.056184321048648234,
          -0.9549249822632772,
          null,
          -0.056184321048648234,
          -0.19786021564047204,
          null,
          -0.056184321048648234,
          -0.5287252993433208,
          null,
          -0.056184321048648234,
          0.6196765077665056,
          null,
          -0.056184321048648234,
          0.9228573565400265,
          null,
          -0.056184321048648234,
          0.588216006339653,
          null,
          -0.056184321048648234,
          0.80938841487089,
          null,
          -0.056184321048648234,
          -0.689832361866273,
          null,
          -0.056184321048648234,
          -0.8105062153696194,
          null,
          -0.056184321048648234,
          0.7400960146885557,
          null,
          -0.056184321048648234,
          0.5608117236409589,
          null,
          -0.056184321048648234,
          -0.6783858016523288,
          null,
          -0.056184321048648234,
          0.04483205954328399,
          null,
          -0.056184321048648234,
          -0.5394668833744336,
          null,
          -0.056184321048648234,
          -0.8607225894513627,
          null,
          -0.056184321048648234,
          0.7528582551086501,
          null,
          -0.056184321048648234,
          -0.9247265173457733,
          null,
          -0.056184321048648234,
          0.38931971781598906,
          null,
          -0.056184321048648234,
          -0.35457840354622705,
          null,
          0.0953846362140042,
          0.1346931680887622,
          null,
          0.0953846362140042,
          0.9228573565400265,
          null,
          0.0953846362140042,
          0.588216006339653,
          null,
          0.0953846362140042,
          -0.8343140468907145,
          null,
          0.0953846362140042,
          0.7528582551086501,
          null,
          0.0953846362140042,
          -0.8858028762907947,
          null,
          0.0953846362140042,
          0.7975817077852252,
          null,
          0.0953846362140042,
          -0.689832361866273,
          null,
          0.0953846362140042,
          -0.8607225894513627,
          null,
          0.0953846362140042,
          -0.671932376443623,
          null,
          0.0953846362140042,
          0.10967824624219698,
          null,
          0.0953846362140042,
          -0.5287252993433208,
          null,
          0.0953846362140042,
          -0.9247265173457733,
          null,
          -0.8726269577811001,
          0.1346931680887622,
          null,
          -0.8726269577811001,
          0.863536663695596,
          null,
          -0.8726269577811001,
          0.7528582551086501,
          null,
          -0.8726269577811001,
          -0.19786021564047204,
          null,
          -0.8726269577811001,
          -0.671932376443623,
          null,
          -0.8726269577811001,
          0.7975817077852252,
          null,
          -0.8726269577811001,
          -0.5287252993433208,
          null,
          -0.8726269577811001,
          0.5282540416160676,
          null,
          -0.671932376443623,
          0.10967824624219698,
          null,
          -0.671932376443623,
          0.7528582551086501,
          null,
          -0.671932376443623,
          -0.4507029938156949,
          null,
          -0.671932376443623,
          0.04483205954328399,
          null,
          -0.671932376443623,
          0.7094623870259431,
          null,
          -0.671932376443623,
          -0.8607225894513627,
          null,
          0.6196765077665056,
          0.7528582551086501,
          null,
          0.6196765077665056,
          -0.8105062153696194,
          null,
          0.6196765077665056,
          0.8667757158105226,
          null,
          0.6196765077665056,
          -0.16819135046876987,
          null,
          0.6196765077665056,
          0.7094623870259431,
          null,
          0.6196765077665056,
          0.80938841487089,
          null,
          0.6196765077665056,
          -0.35457840354622705,
          null,
          0.035087379707591,
          -0.19786021564047204,
          null,
          0.035087379707591,
          0.1346931680887622,
          null,
          0.035087379707591,
          -0.5287252993433208,
          null,
          0.035087379707591,
          -0.9549249822632772,
          null,
          0.035087379707591,
          0.6196765077665056,
          null,
          0.035087379707591,
          0.7094623870259431,
          null,
          0.035087379707591,
          -0.08613709635113886,
          null,
          0.035087379707591,
          0.7400960146885557,
          null,
          0.035087379707591,
          0.7528582551086501,
          null,
          0.035087379707591,
          -0.26016081366133514,
          null,
          0.035087379707591,
          -0.16819135046876987,
          null,
          0.035087379707591,
          0.5608117236409589,
          null,
          0.035087379707591,
          -0.6783858016523288,
          null,
          0.035087379707591,
          -0.8105062153696194,
          null,
          0.035087379707591,
          -0.8858028762907947,
          null,
          0.15807472121511304,
          0.1346931680887622,
          null,
          0.15807472121511304,
          0.8667757158105226,
          null,
          0.15807472121511304,
          0.80938841487089,
          null,
          0.15807472121511304,
          -0.870308835744537,
          null,
          0.15807472121511304,
          -0.9549249822632772,
          null,
          0.15807472121511304,
          0.739552255455448,
          null,
          0.15807472121511304,
          -0.8858028762907947,
          null,
          0.15807472121511304,
          -0.9247265173457733,
          null,
          0.15807472121511304,
          0.5282540416160676,
          null,
          0.15807472121511304,
          -0.5394668833744336,
          null,
          0.15807472121511304,
          -0.4507029938156949,
          null,
          0.15807472121511304,
          -0.8343140468907145,
          null,
          0.15807472121511304,
          0.7528582551086501,
          null,
          0.15807472121511304,
          -0.8105062153696194,
          null,
          0.15807472121511304,
          0.04483205954328399,
          null,
          0.15807472121511304,
          -0.26016081366133514,
          null,
          -0.19786021564047204,
          -0.8343140468907145,
          null,
          -0.5547298765960947,
          0.1346931680887622,
          null,
          -0.5547298765960947,
          0.80938841487089,
          null,
          -0.5547298765960947,
          0.7528582551086501,
          null,
          -0.5547298765960947,
          0.7094623870259431,
          null,
          -0.5547298765960947,
          0.7400960146885557,
          null,
          -0.5547298765960947,
          -0.8607225894513627,
          null
         ]
        },
        {
         "customdata": [
          [
           0,
           27
          ],
          [
           20,
           7
          ],
          [
           32,
           0
          ],
          [
           0,
           30
          ],
          [
           25,
           3
          ],
          [
           21,
           8
          ],
          [
           26,
           0
          ],
          [
           28,
           1
          ],
          [
           40,
           0
          ],
          [
           26,
           0
          ],
          [
           123,
           1
          ],
          [
           0,
           37
          ],
          [
           42,
           0
          ],
          [
           48,
           0
          ],
          [
           42,
           0
          ],
          [
           25,
           3
          ],
          [
           29,
           2
          ],
          [
           52,
           3
          ],
          [
           111,
           15
          ],
          [
           97,
           7
          ],
          [
           33,
           3
          ],
          [
           26,
           0
          ],
          [
           95,
           1
          ],
          [
           74,
           0
          ],
          [
           45,
           2
          ],
          [
           84,
           0
          ],
          [
           8,
           45
          ],
          [
           0,
           27
          ],
          [
           55,
           1
          ],
          [
           31,
           5
          ],
          [
           56,
           0
          ],
          [
           33,
           0
          ],
          [
           84,
           2
          ],
          [
           311,
           0
          ],
          [
           45,
           3
          ],
          [
           2,
           108
          ],
          [
           1779,
           47
          ],
          [
           31,
           3
          ],
          [
           0,
           39
          ],
          [
           13,
           91
          ],
          [
           4,
           31
          ],
          [
           0,
           31
          ],
          [
           47,
           12
          ],
          [
           39,
           13
          ],
          [
           1,
           33
          ],
          [
           0,
           32
          ],
          [
           27,
           0
          ],
          [
           48,
           7
          ],
          [
           56,
           0
          ],
          [
           0,
           29
          ]
         ],
         "hovertemplate": "<b>@%{text}</b><br>Grado total: %{marker.color}<br>Menciones recibidas: %{customdata[0]}<br>Menciones hechas: %{customdata[1]}<extra></extra>",
         "marker": {
          "color": [
           27,
           27,
           32,
           30,
           28,
           29,
           26,
           29,
           40,
           26,
           124,
           37,
           42,
           48,
           42,
           28,
           31,
           55,
           126,
           104,
           36,
           26,
           96,
           74,
           47,
           84,
           53,
           27,
           56,
           36,
           56,
           33,
           86,
           311,
           48,
           110,
           1826,
           34,
           39,
           104,
           35,
           31,
           59,
           52,
           34,
           32,
           27,
           55,
           56,
           29
          ],
          "colorbar": {
           "title": {
            "text": "Grado Total"
           }
          },
          "colorscale": [
           [
            0,
            "#440154"
           ],
           [
            0.1111111111111111,
            "#482878"
           ],
           [
            0.2222222222222222,
            "#3e4989"
           ],
           [
            0.3333333333333333,
            "#31688e"
           ],
           [
            0.4444444444444444,
            "#26828e"
           ],
           [
            0.5555555555555556,
            "#1f9e89"
           ],
           [
            0.6666666666666666,
            "#35b779"
           ],
           [
            0.7777777777777778,
            "#6ece58"
           ],
           [
            0.8888888888888888,
            "#b5de2b"
           ],
           [
            1,
            "#fde725"
           ]
          ],
          "line": {
           "color": "white",
           "width": 2
          },
          "showscale": true,
          "size": [
           23.5,
           23.5,
           26,
           25,
           24,
           24.5,
           23,
           24.5,
           30,
           23,
           72,
           28.5,
           31,
           34,
           31,
           24,
           25.5,
           37.5,
           73,
           62,
           28,
           23,
           58,
           47,
           33.5,
           52,
           36.5,
           23.5,
           38,
           28,
           38,
           26.5,
           53,
           165.5,
           34,
           65,
           923,
           27,
           29.5,
           62,
           27.5,
           25.5,
           39.5,
           36,
           27,
           26,
           23.5,
           37.5,
           38,
           24.5
          ]
         },
         "mode": "markers+text",
         "name": "Usuarios",
         "text": [
          "@citizen_tobino",
          "@cmendeza",
          "@karinherreravp",
          "@estelar21362549",
          "@sonny_figueroa",
          "@carlosrkestler",
          "@soy_502",
          "@davidck7",
          "@congresoguate",
          "@bancadasemilla",
          "@drgiammattei",
          "@erwin15",
          "@guatemalagob",
          "@samuel_pz",
          "@hshetemul",
          "@aztecanoticiagt",
          "@alex_balsells",
          "@agenciaocote",
          "@prensacomunitar",
          "@mmendoza_gt",
          "@cacifguatemala",
          "@jeanellydvg",
          "@mpguatemala",
          "@cc_guatemala",
          "@emisorasunidas",
          "@amilcarmontejo",
          "@cubreserva",
          "@papaabumario",
          "@msemillagt",
          "@noficciongt",
          "@ricigt1",
          "@pncdeguatemala",
          "@lahoragt",
          "@barevalodeleon",
          "@quorumgt",
          "@batallonjalapa",
          "@traficogt",
          "@plazapublicagt",
          "@giovanottigt",
          "@mildred_gaitan",
          "@hellboy17oc",
          "@edwadriperez",
          "@jlfont001",
          "@factor4_gt",
          "@mariacdeleon1",
          "@erosan3edsa",
          "@concriteriogt",
          "@manfredoguate",
          "@muniguate",
          "@wamado04"
         ],
         "textfont": {
          "size": 8
         },
         "textposition": "middle center",
         "type": "scatter",
         "x": [
          -0.1071798046597238,
          0.8603512756713584,
          -0.4603027010024319,
          -0.8047979413353346,
          0.40292704068529384,
          -0.6094306147186143,
          0.8660995377328247,
          -0.597873646368043,
          -0.7182024307859627,
          0.3260784695977618,
          0.4530692357767408,
          -0.4689716477849061,
          0.0082896716842586,
          -0.8207610641438821,
          0.26137090016245496,
          0.6803261790207163,
          -0.3907697634623241,
          0.8770387928194737,
          -0.3005759935540546,
          0.7750416851762468,
          -0.8474504253288532,
          -0.724787990020377,
          -0.21452808545659507,
          0.28570417132029186,
          0.0998420377996846,
          0.9999999999999999,
          0.37614405461533423,
          0.05547240093192715,
          -0.7868589292670773,
          -0.8523207361781914,
          -0.05625708888841127,
          0.9360392072761015,
          -0.5980477534588149,
          -0.47177318621762004,
          -0.23454902143947148,
          -0.19367465905837056,
          -0.6124887814410632,
          0.5657031011961978,
          0.38370120490358284,
          -0.1941734332172029,
          0.08350973626966075,
          -0.21137052766514083,
          -0.2480922568731954,
          0.6832907510160143,
          0.3608798560034509,
          -0.8376928716873216,
          0.9593372098119651,
          0.9507827841641516,
          0.8752282565423509,
          -0.763296206164861
         ],
         "y": [
          0.9133924336121294,
          0.38931971781598906,
          -0.8105062153696194,
          0.41768353798138896,
          0.7975817077852252,
          0.7400960146885557,
          -0.5394668833744336,
          -0.6783858016523288,
          -0.16819135046876987,
          -0.8343140468907145,
          -0.8607225894513627,
          -0.30294676024916145,
          0.8667757158105226,
          0.04483205954328399,
          -0.9549249822632772,
          -0.689832361866273,
          0.863536663695596,
          0.5608117236409589,
          -0.8858028762907947,
          -0.5287252993433208,
          -0.08613709635113886,
          0.588216006339653,
          0.80938841487089,
          0.7094623870259431,
          -0.9247265173457733,
          0.30206653564290786,
          0.2921953085841572,
          0.8438844554605401,
          -0.4507029938156949,
          -0.26016081366133514,
          -0.870308835744537,
          -0.35457840354622705,
          0.5282540416160676,
          0.7528582551086501,
          0.9228573565400265,
          0.05920586882295911,
          0.1346931680887622,
          0.739552255455448,
          -0.6669303620765542,
          -0.056184321048648234,
          0.0953846362140042,
          -0.8726269577811001,
          -0.671932376443623,
          0.6196765077665056,
          0.035087379707591,
          0.15807472121511304,
          0.10967824624219698,
          -0.19786021564047204,
          -0.07386718200381144,
          -0.5547298765960947
         ]
        }
       ],
       "layout": {
        "annotations": [
         {
          "font": {
           "color": "gray",
           "size": 10
          },
          "showarrow": false,
          "text": "Nodos: 50, Aristas: 234<br>Densidad subred: 0.0955",
          "x": 0.005,
          "xanchor": "left",
          "xref": "paper",
          "y": -0.002,
          "yanchor": "bottom",
          "yref": "paper"
         }
        ],
        "hovermode": "closest",
        "margin": {
         "b": 20,
         "l": 5,
         "r": 5,
         "t": 80
        },
        "plot_bgcolor": "white",
        "showlegend": false,
        "template": {
         "data": {
          "bar": [
           {
            "error_x": {
             "color": "#2a3f5f"
            },
            "error_y": {
             "color": "#2a3f5f"
            },
            "marker": {
             "line": {
              "color": "#E5ECF6",
              "width": 0.5
             },
             "pattern": {
              "fillmode": "overlay",
              "size": 10,
              "solidity": 0.2
             }
            },
            "type": "bar"
           }
          ],
          "barpolar": [
           {
            "marker": {
             "line": {
              "color": "#E5ECF6",
              "width": 0.5
             },
             "pattern": {
              "fillmode": "overlay",
              "size": 10,
              "solidity": 0.2
             }
            },
            "type": "barpolar"
           }
          ],
          "carpet": [
           {
            "aaxis": {
             "endlinecolor": "#2a3f5f",
             "gridcolor": "white",
             "linecolor": "white",
             "minorgridcolor": "white",
             "startlinecolor": "#2a3f5f"
            },
            "baxis": {
             "endlinecolor": "#2a3f5f",
             "gridcolor": "white",
             "linecolor": "white",
             "minorgridcolor": "white",
             "startlinecolor": "#2a3f5f"
            },
            "type": "carpet"
           }
          ],
          "choropleth": [
           {
            "colorbar": {
             "outlinewidth": 0,
             "ticks": ""
            },
            "type": "choropleth"
           }
          ],
          "contour": [
           {
            "colorbar": {
             "outlinewidth": 0,
             "ticks": ""
            },
            "colorscale": [
             [
              0,
              "#0d0887"
             ],
             [
              0.1111111111111111,
              "#46039f"
             ],
             [
              0.2222222222222222,
              "#7201a8"
             ],
             [
              0.3333333333333333,
              "#9c179e"
             ],
             [
              0.4444444444444444,
              "#bd3786"
             ],
             [
              0.5555555555555556,
              "#d8576b"
             ],
             [
              0.6666666666666666,
              "#ed7953"
             ],
             [
              0.7777777777777778,
              "#fb9f3a"
             ],
             [
              0.8888888888888888,
              "#fdca26"
             ],
             [
              1,
              "#f0f921"
             ]
            ],
            "type": "contour"
           }
          ],
          "contourcarpet": [
           {
            "colorbar": {
             "outlinewidth": 0,
             "ticks": ""
            },
            "type": "contourcarpet"
           }
          ],
          "heatmap": [
           {
            "colorbar": {
             "outlinewidth": 0,
             "ticks": ""
            },
            "colorscale": [
             [
              0,
              "#0d0887"
             ],
             [
              0.1111111111111111,
              "#46039f"
             ],
             [
              0.2222222222222222,
              "#7201a8"
             ],
             [
              0.3333333333333333,
              "#9c179e"
             ],
             [
              0.4444444444444444,
              "#bd3786"
             ],
             [
              0.5555555555555556,
              "#d8576b"
             ],
             [
              0.6666666666666666,
              "#ed7953"
             ],
             [
              0.7777777777777778,
              "#fb9f3a"
             ],
             [
              0.8888888888888888,
              "#fdca26"
             ],
             [
              1,
              "#f0f921"
             ]
            ],
            "type": "heatmap"
           }
          ],
          "histogram": [
           {
            "marker": {
             "pattern": {
              "fillmode": "overlay",
              "size": 10,
              "solidity": 0.2
             }
            },
            "type": "histogram"
           }
          ],
          "histogram2d": [
           {
            "colorbar": {
             "outlinewidth": 0,
             "ticks": ""
            },
            "colorscale": [
             [
              0,
              "#0d0887"
             ],
             [
              0.1111111111111111,
              "#46039f"
             ],
             [
              0.2222222222222222,
              "#7201a8"
             ],
             [
              0.3333333333333333,
              "#9c179e"
             ],
             [
              0.4444444444444444,
              "#bd3786"
             ],
             [
              0.5555555555555556,
              "#d8576b"
             ],
             [
              0.6666666666666666,
              "#ed7953"
             ],
             [
              0.7777777777777778,
              "#fb9f3a"
             ],
             [
              0.8888888888888888,
              "#fdca26"
             ],
             [
              1,
              "#f0f921"
             ]
            ],
            "type": "histogram2d"
           }
          ],
          "histogram2dcontour": [
           {
            "colorbar": {
             "outlinewidth": 0,
             "ticks": ""
            },
            "colorscale": [
             [
              0,
              "#0d0887"
             ],
             [
              0.1111111111111111,
              "#46039f"
             ],
             [
              0.2222222222222222,
              "#7201a8"
             ],
             [
              0.3333333333333333,
              "#9c179e"
             ],
             [
              0.4444444444444444,
              "#bd3786"
             ],
             [
              0.5555555555555556,
              "#d8576b"
             ],
             [
              0.6666666666666666,
              "#ed7953"
             ],
             [
              0.7777777777777778,
              "#fb9f3a"
             ],
             [
              0.8888888888888888,
              "#fdca26"
             ],
             [
              1,
              "#f0f921"
             ]
            ],
            "type": "histogram2dcontour"
           }
          ],
          "mesh3d": [
           {
            "colorbar": {
             "outlinewidth": 0,
             "ticks": ""
            },
            "type": "mesh3d"
           }
          ],
          "parcoords": [
           {
            "line": {
             "colorbar": {
              "outlinewidth": 0,
              "ticks": ""
             }
            },
            "type": "parcoords"
           }
          ],
          "pie": [
           {
            "automargin": true,
            "type": "pie"
           }
          ],
          "scatter": [
           {
            "fillpattern": {
             "fillmode": "overlay",
             "size": 10,
             "solidity": 0.2
            },
            "type": "scatter"
           }
          ],
          "scatter3d": [
           {
            "line": {
             "colorbar": {
              "outlinewidth": 0,
              "ticks": ""
             }
            },
            "marker": {
             "colorbar": {
              "outlinewidth": 0,
              "ticks": ""
             }
            },
            "type": "scatter3d"
           }
          ],
          "scattercarpet": [
           {
            "marker": {
             "colorbar": {
              "outlinewidth": 0,
              "ticks": ""
             }
            },
            "type": "scattercarpet"
           }
          ],
          "scattergeo": [
           {
            "marker": {
             "colorbar": {
              "outlinewidth": 0,
              "ticks": ""
             }
            },
            "type": "scattergeo"
           }
          ],
          "scattergl": [
           {
            "marker": {
             "colorbar": {
              "outlinewidth": 0,
              "ticks": ""
             }
            },
            "type": "scattergl"
           }
          ],
          "scattermap": [
           {
            "marker": {
             "colorbar": {
              "outlinewidth": 0,
              "ticks": ""
             }
            },
            "type": "scattermap"
           }
          ],
          "scattermapbox": [
           {
            "marker": {
             "colorbar": {
              "outlinewidth": 0,
              "ticks": ""
             }
            },
            "type": "scattermapbox"
           }
          ],
          "scatterpolar": [
           {
            "marker": {
             "colorbar": {
              "outlinewidth": 0,
              "ticks": ""
             }
            },
            "type": "scatterpolar"
           }
          ],
          "scatterpolargl": [
           {
            "marker": {
             "colorbar": {
              "outlinewidth": 0,
              "ticks": ""
             }
            },
            "type": "scatterpolargl"
           }
          ],
          "scatterternary": [
           {
            "marker": {
             "colorbar": {
              "outlinewidth": 0,
              "ticks": ""
             }
            },
            "type": "scatterternary"
           }
          ],
          "surface": [
           {
            "colorbar": {
             "outlinewidth": 0,
             "ticks": ""
            },
            "colorscale": [
             [
              0,
              "#0d0887"
             ],
             [
              0.1111111111111111,
              "#46039f"
             ],
             [
              0.2222222222222222,
              "#7201a8"
             ],
             [
              0.3333333333333333,
              "#9c179e"
             ],
             [
              0.4444444444444444,
              "#bd3786"
             ],
             [
              0.5555555555555556,
              "#d8576b"
             ],
             [
              0.6666666666666666,
              "#ed7953"
             ],
             [
              0.7777777777777778,
              "#fb9f3a"
             ],
             [
              0.8888888888888888,
              "#fdca26"
             ],
             [
              1,
              "#f0f921"
             ]
            ],
            "type": "surface"
           }
          ],
          "table": [
           {
            "cells": {
             "fill": {
              "color": "#EBF0F8"
             },
             "line": {
              "color": "white"
             }
            },
            "header": {
             "fill": {
              "color": "#C8D4E3"
             },
             "line": {
              "color": "white"
             }
            },
            "type": "table"
           }
          ]
         },
         "layout": {
          "annotationdefaults": {
           "arrowcolor": "#2a3f5f",
           "arrowhead": 0,
           "arrowwidth": 1
          },
          "autotypenumbers": "strict",
          "coloraxis": {
           "colorbar": {
            "outlinewidth": 0,
            "ticks": ""
           }
          },
          "colorscale": {
           "diverging": [
            [
             0,
             "#8e0152"
            ],
            [
             0.1,
             "#c51b7d"
            ],
            [
             0.2,
             "#de77ae"
            ],
            [
             0.3,
             "#f1b6da"
            ],
            [
             0.4,
             "#fde0ef"
            ],
            [
             0.5,
             "#f7f7f7"
            ],
            [
             0.6,
             "#e6f5d0"
            ],
            [
             0.7,
             "#b8e186"
            ],
            [
             0.8,
             "#7fbc41"
            ],
            [
             0.9,
             "#4d9221"
            ],
            [
             1,
             "#276419"
            ]
           ],
           "sequential": [
            [
             0,
             "#0d0887"
            ],
            [
             0.1111111111111111,
             "#46039f"
            ],
            [
             0.2222222222222222,
             "#7201a8"
            ],
            [
             0.3333333333333333,
             "#9c179e"
            ],
            [
             0.4444444444444444,
             "#bd3786"
            ],
            [
             0.5555555555555556,
             "#d8576b"
            ],
            [
             0.6666666666666666,
             "#ed7953"
            ],
            [
             0.7777777777777778,
             "#fb9f3a"
            ],
            [
             0.8888888888888888,
             "#fdca26"
            ],
            [
             1,
             "#f0f921"
            ]
           ],
           "sequentialminus": [
            [
             0,
             "#0d0887"
            ],
            [
             0.1111111111111111,
             "#46039f"
            ],
            [
             0.2222222222222222,
             "#7201a8"
            ],
            [
             0.3333333333333333,
             "#9c179e"
            ],
            [
             0.4444444444444444,
             "#bd3786"
            ],
            [
             0.5555555555555556,
             "#d8576b"
            ],
            [
             0.6666666666666666,
             "#ed7953"
            ],
            [
             0.7777777777777778,
             "#fb9f3a"
            ],
            [
             0.8888888888888888,
             "#fdca26"
            ],
            [
             1,
             "#f0f921"
            ]
           ]
          },
          "colorway": [
           "#636efa",
           "#EF553B",
           "#00cc96",
           "#ab63fa",
           "#FFA15A",
           "#19d3f3",
           "#FF6692",
           "#B6E880",
           "#FF97FF",
           "#FECB52"
          ],
          "font": {
           "color": "#2a3f5f"
          },
          "geo": {
           "bgcolor": "white",
           "lakecolor": "white",
           "landcolor": "#E5ECF6",
           "showlakes": true,
           "showland": true,
           "subunitcolor": "white"
          },
          "hoverlabel": {
           "align": "left"
          },
          "hovermode": "closest",
          "mapbox": {
           "style": "light"
          },
          "paper_bgcolor": "white",
          "plot_bgcolor": "#E5ECF6",
          "polar": {
           "angularaxis": {
            "gridcolor": "white",
            "linecolor": "white",
            "ticks": ""
           },
           "bgcolor": "#E5ECF6",
           "radialaxis": {
            "gridcolor": "white",
            "linecolor": "white",
            "ticks": ""
           }
          },
          "scene": {
           "xaxis": {
            "backgroundcolor": "#E5ECF6",
            "gridcolor": "white",
            "gridwidth": 2,
            "linecolor": "white",
            "showbackground": true,
            "ticks": "",
            "zerolinecolor": "white"
           },
           "yaxis": {
            "backgroundcolor": "#E5ECF6",
            "gridcolor": "white",
            "gridwidth": 2,
            "linecolor": "white",
            "showbackground": true,
            "ticks": "",
            "zerolinecolor": "white"
           },
           "zaxis": {
            "backgroundcolor": "#E5ECF6",
            "gridcolor": "white",
            "gridwidth": 2,
            "linecolor": "white",
            "showbackground": true,
            "ticks": "",
            "zerolinecolor": "white"
           }
          },
          "shapedefaults": {
           "line": {
            "color": "#2a3f5f"
           }
          },
          "ternary": {
           "aaxis": {
            "gridcolor": "white",
            "linecolor": "white",
            "ticks": ""
           },
           "baxis": {
            "gridcolor": "white",
            "linecolor": "white",
            "ticks": ""
           },
           "bgcolor": "#E5ECF6",
           "caxis": {
            "gridcolor": "white",
            "linecolor": "white",
            "ticks": ""
           }
          },
          "title": {
           "x": 0.05
          },
          "xaxis": {
           "automargin": true,
           "gridcolor": "white",
           "linecolor": "white",
           "ticks": "",
           "title": {
            "standoff": 15
           },
           "zerolinecolor": "white",
           "zerolinewidth": 2
          },
          "yaxis": {
           "automargin": true,
           "gridcolor": "white",
           "linecolor": "white",
           "ticks": "",
           "title": {
            "standoff": 15
           },
           "zerolinecolor": "white",
           "zerolinewidth": 2
          }
         }
        },
        "title": {
         "font": {
          "size": 16
         },
         "text": "Red de Menciones - Top 50 Usuarios Más Conectados<br><sub>Tamaño de nodo = grado total, Color = intensidad de conexiones</sub>"
        },
        "xaxis": {
         "showgrid": false,
         "showticklabels": false,
         "zeroline": false
        },
        "yaxis": {
         "showgrid": false,
         "showticklabels": false,
         "zeroline": false
        }
       }
      }
     },
     "metadata": {},
     "output_type": "display_data"
    },
    {
     "data": {
      "application/vnd.plotly.v1+json": {
       "config": {
        "plotlyServerURL": "https://plot.ly"
       },
       "data": [
        {
         "marker": {
          "color": "lightblue"
         },
         "name": "In-degree",
         "type": "bar",
         "x": [
          0,
          1,
          2,
          3,
          4,
          5,
          6,
          7,
          8,
          9,
          10,
          11,
          12,
          13,
          14,
          15,
          17,
          18,
          19,
          20,
          21,
          22,
          24,
          25,
          26,
          27,
          28,
          29,
          31,
          32,
          33,
          39,
          40,
          42,
          45,
          47,
          48,
          52,
          55,
          56,
          74,
          84,
          95,
          97,
          111,
          123,
          311,
          1779
         ],
         "xaxis": "x",
         "y": [
          1598,
          541,
          150,
          78,
          45,
          42,
          26,
          22,
          19,
          14,
          12,
          6,
          3,
          4,
          4,
          5,
          6,
          5,
          5,
          5,
          2,
          2,
          1,
          3,
          4,
          1,
          1,
          1,
          2,
          1,
          2,
          1,
          1,
          2,
          2,
          1,
          2,
          1,
          1,
          2,
          1,
          2,
          1,
          1,
          1,
          1,
          1,
          1
         ],
         "yaxis": "y"
        },
        {
         "marker": {
          "color": "lightcoral"
         },
         "name": "Out-degree",
         "type": "bar",
         "x": [
          0,
          1,
          2,
          3,
          4,
          5,
          6,
          7,
          8,
          9,
          10,
          11,
          12,
          13,
          14,
          15,
          16,
          17,
          18,
          19,
          20,
          21,
          22,
          23,
          24,
          26,
          27,
          29,
          30,
          31,
          32,
          33,
          37,
          39,
          45,
          47,
          91,
          108
         ],
         "xaxis": "x2",
         "y": [
          769,
          465,
          542,
          336,
          158,
          95,
          65,
          46,
          30,
          24,
          9,
          13,
          10,
          11,
          5,
          7,
          4,
          5,
          7,
          3,
          3,
          3,
          3,
          2,
          2,
          1,
          2,
          1,
          1,
          2,
          1,
          1,
          1,
          1,
          1,
          1,
          1,
          1
         ],
         "yaxis": "y2"
        },
        {
         "marker": {
          "color": "green"
         },
         "name": "Más mencionados",
         "orientation": "h",
         "type": "bar",
         "x": [
          1779,
          311,
          123,
          111,
          97,
          95,
          84,
          84,
          74,
          56,
          56,
          55,
          52,
          48,
          48,
          47,
          45,
          45,
          42,
          42
         ],
         "xaxis": "x3",
         "y": [
          "@traficogt",
          "@barevalodeleon",
          "@drgiammattei",
          "@prensacomunitar",
          "@mmendoza_gt",
          "@mpguatemala",
          "@amilcarmontejo",
          "@lahoragt",
          "@cc_guatemala",
          "@muniguate",
          "@ricigt1",
          "@msemillagt",
          "@agenciaocote",
          "@samuel_pz",
          "@manfredoguate",
          "@jlfont001",
          "@emisorasunidas",
          "@quorumgt",
          "@guatemalagob",
          "@hshetemul"
         ],
         "yaxis": "y3"
        },
        {
         "marker": {
          "color": "orange"
         },
         "name": "Más activos",
         "orientation": "h",
         "type": "bar",
         "x": [
          108,
          91,
          47,
          45,
          39,
          37,
          33,
          32,
          31,
          31,
          30,
          29,
          27,
          27,
          26,
          24,
          24,
          23,
          23,
          22
         ],
         "xaxis": "x4",
         "y": [
          "@batallonjalapa",
          "@mildred_gaitan",
          "@traficogt",
          "@cubreserva",
          "@giovanottigt",
          "@erwin15",
          "@mariacdeleon1",
          "@erosan3edsa",
          "@edwadriperez",
          "@hellboy17oc",
          "@estelar21362549",
          "@wamado04",
          "@papaabumario",
          "@citizen_tobino",
          "@aurabenitez",
          "@ldubon63",
          "@victorp95913830",
          "@cedr2506",
          "@erwinrobles2",
          "@ariefialko"
         ],
         "yaxis": "y4"
        }
       ],
       "layout": {
        "annotations": [
         {
          "font": {
           "size": 16
          },
          "showarrow": false,
          "text": "Distribución de Grados de Entrada",
          "x": 0.225,
          "xanchor": "center",
          "xref": "paper",
          "y": 1,
          "yanchor": "bottom",
          "yref": "paper"
         },
         {
          "font": {
           "size": 16
          },
          "showarrow": false,
          "text": "Distribución de Grados de Salida",
          "x": 0.775,
          "xanchor": "center",
          "xref": "paper",
          "y": 1,
          "yanchor": "bottom",
          "yref": "paper"
         },
         {
          "font": {
           "size": 16
          },
          "showarrow": false,
          "text": "Top 20 Nodos Más Mencionados",
          "x": 0.225,
          "xanchor": "center",
          "xref": "paper",
          "y": 0.375,
          "yanchor": "bottom",
          "yref": "paper"
         },
         {
          "font": {
           "size": 16
          },
          "showarrow": false,
          "text": "Top 20 Nodos Más Activos",
          "x": 0.775,
          "xanchor": "center",
          "xref": "paper",
          "y": 0.375,
          "yanchor": "bottom",
          "yref": "paper"
         }
        ],
        "height": 800,
        "showlegend": false,
        "template": {
         "data": {
          "bar": [
           {
            "error_x": {
             "color": "#2a3f5f"
            },
            "error_y": {
             "color": "#2a3f5f"
            },
            "marker": {
             "line": {
              "color": "#E5ECF6",
              "width": 0.5
             },
             "pattern": {
              "fillmode": "overlay",
              "size": 10,
              "solidity": 0.2
             }
            },
            "type": "bar"
           }
          ],
          "barpolar": [
           {
            "marker": {
             "line": {
              "color": "#E5ECF6",
              "width": 0.5
             },
             "pattern": {
              "fillmode": "overlay",
              "size": 10,
              "solidity": 0.2
             }
            },
            "type": "barpolar"
           }
          ],
          "carpet": [
           {
            "aaxis": {
             "endlinecolor": "#2a3f5f",
             "gridcolor": "white",
             "linecolor": "white",
             "minorgridcolor": "white",
             "startlinecolor": "#2a3f5f"
            },
            "baxis": {
             "endlinecolor": "#2a3f5f",
             "gridcolor": "white",
             "linecolor": "white",
             "minorgridcolor": "white",
             "startlinecolor": "#2a3f5f"
            },
            "type": "carpet"
           }
          ],
          "choropleth": [
           {
            "colorbar": {
             "outlinewidth": 0,
             "ticks": ""
            },
            "type": "choropleth"
           }
          ],
          "contour": [
           {
            "colorbar": {
             "outlinewidth": 0,
             "ticks": ""
            },
            "colorscale": [
             [
              0,
              "#0d0887"
             ],
             [
              0.1111111111111111,
              "#46039f"
             ],
             [
              0.2222222222222222,
              "#7201a8"
             ],
             [
              0.3333333333333333,
              "#9c179e"
             ],
             [
              0.4444444444444444,
              "#bd3786"
             ],
             [
              0.5555555555555556,
              "#d8576b"
             ],
             [
              0.6666666666666666,
              "#ed7953"
             ],
             [
              0.7777777777777778,
              "#fb9f3a"
             ],
             [
              0.8888888888888888,
              "#fdca26"
             ],
             [
              1,
              "#f0f921"
             ]
            ],
            "type": "contour"
           }
          ],
          "contourcarpet": [
           {
            "colorbar": {
             "outlinewidth": 0,
             "ticks": ""
            },
            "type": "contourcarpet"
           }
          ],
          "heatmap": [
           {
            "colorbar": {
             "outlinewidth": 0,
             "ticks": ""
            },
            "colorscale": [
             [
              0,
              "#0d0887"
             ],
             [
              0.1111111111111111,
              "#46039f"
             ],
             [
              0.2222222222222222,
              "#7201a8"
             ],
             [
              0.3333333333333333,
              "#9c179e"
             ],
             [
              0.4444444444444444,
              "#bd3786"
             ],
             [
              0.5555555555555556,
              "#d8576b"
             ],
             [
              0.6666666666666666,
              "#ed7953"
             ],
             [
              0.7777777777777778,
              "#fb9f3a"
             ],
             [
              0.8888888888888888,
              "#fdca26"
             ],
             [
              1,
              "#f0f921"
             ]
            ],
            "type": "heatmap"
           }
          ],
          "histogram": [
           {
            "marker": {
             "pattern": {
              "fillmode": "overlay",
              "size": 10,
              "solidity": 0.2
             }
            },
            "type": "histogram"
           }
          ],
          "histogram2d": [
           {
            "colorbar": {
             "outlinewidth": 0,
             "ticks": ""
            },
            "colorscale": [
             [
              0,
              "#0d0887"
             ],
             [
              0.1111111111111111,
              "#46039f"
             ],
             [
              0.2222222222222222,
              "#7201a8"
             ],
             [
              0.3333333333333333,
              "#9c179e"
             ],
             [
              0.4444444444444444,
              "#bd3786"
             ],
             [
              0.5555555555555556,
              "#d8576b"
             ],
             [
              0.6666666666666666,
              "#ed7953"
             ],
             [
              0.7777777777777778,
              "#fb9f3a"
             ],
             [
              0.8888888888888888,
              "#fdca26"
             ],
             [
              1,
              "#f0f921"
             ]
            ],
            "type": "histogram2d"
           }
          ],
          "histogram2dcontour": [
           {
            "colorbar": {
             "outlinewidth": 0,
             "ticks": ""
            },
            "colorscale": [
             [
              0,
              "#0d0887"
             ],
             [
              0.1111111111111111,
              "#46039f"
             ],
             [
              0.2222222222222222,
              "#7201a8"
             ],
             [
              0.3333333333333333,
              "#9c179e"
             ],
             [
              0.4444444444444444,
              "#bd3786"
             ],
             [
              0.5555555555555556,
              "#d8576b"
             ],
             [
              0.6666666666666666,
              "#ed7953"
             ],
             [
              0.7777777777777778,
              "#fb9f3a"
             ],
             [
              0.8888888888888888,
              "#fdca26"
             ],
             [
              1,
              "#f0f921"
             ]
            ],
            "type": "histogram2dcontour"
           }
          ],
          "mesh3d": [
           {
            "colorbar": {
             "outlinewidth": 0,
             "ticks": ""
            },
            "type": "mesh3d"
           }
          ],
          "parcoords": [
           {
            "line": {
             "colorbar": {
              "outlinewidth": 0,
              "ticks": ""
             }
            },
            "type": "parcoords"
           }
          ],
          "pie": [
           {
            "automargin": true,
            "type": "pie"
           }
          ],
          "scatter": [
           {
            "fillpattern": {
             "fillmode": "overlay",
             "size": 10,
             "solidity": 0.2
            },
            "type": "scatter"
           }
          ],
          "scatter3d": [
           {
            "line": {
             "colorbar": {
              "outlinewidth": 0,
              "ticks": ""
             }
            },
            "marker": {
             "colorbar": {
              "outlinewidth": 0,
              "ticks": ""
             }
            },
            "type": "scatter3d"
           }
          ],
          "scattercarpet": [
           {
            "marker": {
             "colorbar": {
              "outlinewidth": 0,
              "ticks": ""
             }
            },
            "type": "scattercarpet"
           }
          ],
          "scattergeo": [
           {
            "marker": {
             "colorbar": {
              "outlinewidth": 0,
              "ticks": ""
             }
            },
            "type": "scattergeo"
           }
          ],
          "scattergl": [
           {
            "marker": {
             "colorbar": {
              "outlinewidth": 0,
              "ticks": ""
             }
            },
            "type": "scattergl"
           }
          ],
          "scattermap": [
           {
            "marker": {
             "colorbar": {
              "outlinewidth": 0,
              "ticks": ""
             }
            },
            "type": "scattermap"
           }
          ],
          "scattermapbox": [
           {
            "marker": {
             "colorbar": {
              "outlinewidth": 0,
              "ticks": ""
             }
            },
            "type": "scattermapbox"
           }
          ],
          "scatterpolar": [
           {
            "marker": {
             "colorbar": {
              "outlinewidth": 0,
              "ticks": ""
             }
            },
            "type": "scatterpolar"
           }
          ],
          "scatterpolargl": [
           {
            "marker": {
             "colorbar": {
              "outlinewidth": 0,
              "ticks": ""
             }
            },
            "type": "scatterpolargl"
           }
          ],
          "scatterternary": [
           {
            "marker": {
             "colorbar": {
              "outlinewidth": 0,
              "ticks": ""
             }
            },
            "type": "scatterternary"
           }
          ],
          "surface": [
           {
            "colorbar": {
             "outlinewidth": 0,
             "ticks": ""
            },
            "colorscale": [
             [
              0,
              "#0d0887"
             ],
             [
              0.1111111111111111,
              "#46039f"
             ],
             [
              0.2222222222222222,
              "#7201a8"
             ],
             [
              0.3333333333333333,
              "#9c179e"
             ],
             [
              0.4444444444444444,
              "#bd3786"
             ],
             [
              0.5555555555555556,
              "#d8576b"
             ],
             [
              0.6666666666666666,
              "#ed7953"
             ],
             [
              0.7777777777777778,
              "#fb9f3a"
             ],
             [
              0.8888888888888888,
              "#fdca26"
             ],
             [
              1,
              "#f0f921"
             ]
            ],
            "type": "surface"
           }
          ],
          "table": [
           {
            "cells": {
             "fill": {
              "color": "#EBF0F8"
             },
             "line": {
              "color": "white"
             }
            },
            "header": {
             "fill": {
              "color": "#C8D4E3"
             },
             "line": {
              "color": "white"
             }
            },
            "type": "table"
           }
          ]
         },
         "layout": {
          "annotationdefaults": {
           "arrowcolor": "#2a3f5f",
           "arrowhead": 0,
           "arrowwidth": 1
          },
          "autotypenumbers": "strict",
          "coloraxis": {
           "colorbar": {
            "outlinewidth": 0,
            "ticks": ""
           }
          },
          "colorscale": {
           "diverging": [
            [
             0,
             "#8e0152"
            ],
            [
             0.1,
             "#c51b7d"
            ],
            [
             0.2,
             "#de77ae"
            ],
            [
             0.3,
             "#f1b6da"
            ],
            [
             0.4,
             "#fde0ef"
            ],
            [
             0.5,
             "#f7f7f7"
            ],
            [
             0.6,
             "#e6f5d0"
            ],
            [
             0.7,
             "#b8e186"
            ],
            [
             0.8,
             "#7fbc41"
            ],
            [
             0.9,
             "#4d9221"
            ],
            [
             1,
             "#276419"
            ]
           ],
           "sequential": [
            [
             0,
             "#0d0887"
            ],
            [
             0.1111111111111111,
             "#46039f"
            ],
            [
             0.2222222222222222,
             "#7201a8"
            ],
            [
             0.3333333333333333,
             "#9c179e"
            ],
            [
             0.4444444444444444,
             "#bd3786"
            ],
            [
             0.5555555555555556,
             "#d8576b"
            ],
            [
             0.6666666666666666,
             "#ed7953"
            ],
            [
             0.7777777777777778,
             "#fb9f3a"
            ],
            [
             0.8888888888888888,
             "#fdca26"
            ],
            [
             1,
             "#f0f921"
            ]
           ],
           "sequentialminus": [
            [
             0,
             "#0d0887"
            ],
            [
             0.1111111111111111,
             "#46039f"
            ],
            [
             0.2222222222222222,
             "#7201a8"
            ],
            [
             0.3333333333333333,
             "#9c179e"
            ],
            [
             0.4444444444444444,
             "#bd3786"
            ],
            [
             0.5555555555555556,
             "#d8576b"
            ],
            [
             0.6666666666666666,
             "#ed7953"
            ],
            [
             0.7777777777777778,
             "#fb9f3a"
            ],
            [
             0.8888888888888888,
             "#fdca26"
            ],
            [
             1,
             "#f0f921"
            ]
           ]
          },
          "colorway": [
           "#636efa",
           "#EF553B",
           "#00cc96",
           "#ab63fa",
           "#FFA15A",
           "#19d3f3",
           "#FF6692",
           "#B6E880",
           "#FF97FF",
           "#FECB52"
          ],
          "font": {
           "color": "#2a3f5f"
          },
          "geo": {
           "bgcolor": "white",
           "lakecolor": "white",
           "landcolor": "#E5ECF6",
           "showlakes": true,
           "showland": true,
           "subunitcolor": "white"
          },
          "hoverlabel": {
           "align": "left"
          },
          "hovermode": "closest",
          "mapbox": {
           "style": "light"
          },
          "paper_bgcolor": "white",
          "plot_bgcolor": "#E5ECF6",
          "polar": {
           "angularaxis": {
            "gridcolor": "white",
            "linecolor": "white",
            "ticks": ""
           },
           "bgcolor": "#E5ECF6",
           "radialaxis": {
            "gridcolor": "white",
            "linecolor": "white",
            "ticks": ""
           }
          },
          "scene": {
           "xaxis": {
            "backgroundcolor": "#E5ECF6",
            "gridcolor": "white",
            "gridwidth": 2,
            "linecolor": "white",
            "showbackground": true,
            "ticks": "",
            "zerolinecolor": "white"
           },
           "yaxis": {
            "backgroundcolor": "#E5ECF6",
            "gridcolor": "white",
            "gridwidth": 2,
            "linecolor": "white",
            "showbackground": true,
            "ticks": "",
            "zerolinecolor": "white"
           },
           "zaxis": {
            "backgroundcolor": "#E5ECF6",
            "gridcolor": "white",
            "gridwidth": 2,
            "linecolor": "white",
            "showbackground": true,
            "ticks": "",
            "zerolinecolor": "white"
           }
          },
          "shapedefaults": {
           "line": {
            "color": "#2a3f5f"
           }
          },
          "ternary": {
           "aaxis": {
            "gridcolor": "white",
            "linecolor": "white",
            "ticks": ""
           },
           "baxis": {
            "gridcolor": "white",
            "linecolor": "white",
            "ticks": ""
           },
           "bgcolor": "#E5ECF6",
           "caxis": {
            "gridcolor": "white",
            "linecolor": "white",
            "ticks": ""
           }
          },
          "title": {
           "x": 0.05
          },
          "xaxis": {
           "automargin": true,
           "gridcolor": "white",
           "linecolor": "white",
           "ticks": "",
           "title": {
            "standoff": 15
           },
           "zerolinecolor": "white",
           "zerolinewidth": 2
          },
          "yaxis": {
           "automargin": true,
           "gridcolor": "white",
           "linecolor": "white",
           "ticks": "",
           "title": {
            "standoff": 15
           },
           "zerolinecolor": "white",
           "zerolinewidth": 2
          }
         }
        },
        "title": {
         "text": "Análisis de Distribución de Grados en la Red",
         "x": 0.5
        },
        "xaxis": {
         "anchor": "y",
         "domain": [
          0,
          0.45
         ],
         "title": {
          "text": "Grado"
         }
        },
        "xaxis2": {
         "anchor": "y2",
         "domain": [
          0.55,
          1
         ],
         "title": {
          "text": "Grado"
         }
        },
        "xaxis3": {
         "anchor": "y3",
         "domain": [
          0,
          0.45
         ],
         "title": {
          "text": "Menciones Recibidas"
         }
        },
        "xaxis4": {
         "anchor": "y4",
         "domain": [
          0.55,
          1
         ],
         "title": {
          "text": "Menciones Realizadas"
         }
        },
        "yaxis": {
         "anchor": "x",
         "domain": [
          0.625,
          1
         ],
         "title": {
          "text": "Frecuencia"
         }
        },
        "yaxis2": {
         "anchor": "x2",
         "domain": [
          0.625,
          1
         ],
         "title": {
          "text": "Frecuencia"
         }
        },
        "yaxis3": {
         "anchor": "x3",
         "domain": [
          0,
          0.375
         ]
        },
        "yaxis4": {
         "anchor": "x4",
         "domain": [
          0,
          0.375
         ]
        }
       }
      }
     },
     "metadata": {},
     "output_type": "display_data"
    }
   ],
   "source": [
    "import networkx as nx\n",
    "import plotly.graph_objects as go\n",
    "import plotly.express as px\n",
    "from plotly.subplots import make_subplots\n",
    "import numpy as np\n",
    "import pandas as pd\n",
    "from collections import defaultdict, Counter\n",
    "import matplotlib.pyplot as plt\n",
    "import seaborn as sns\n",
    "from math import sqrt, log\n",
    "import warnings\n",
    "warnings.filterwarnings('ignore')\n",
    "\n",
    "def build_mention_network(df):\n",
    "    \"\"\"\n",
    "    Construye un grafo dirigido basado en menciones entre usuarios\n",
    "    \"\"\"\n",
    "    print(\"🔨 Construyendo red de menciones...\")\n",
    "    \n",
    "    # Crear grafo dirigido\n",
    "    G = nx.DiGraph()\n",
    "    \n",
    "    # Contadores para estadísticas\n",
    "    mention_pairs = []\n",
    "    users_in_tweets = []\n",
    "    \n",
    "    # Procesar cada tweet\n",
    "    for idx, row in df.iterrows():\n",
    "        # Usuario que escribió el tweet\n",
    "        author = row['user']['username'].lower()\n",
    "        users_in_tweets.append(author)\n",
    "        \n",
    "        # Usuarios mencionados en el tweet\n",
    "        mentions = row['extracted_mentions']\n",
    "        \n",
    "        if mentions:\n",
    "            for mentioned_user in mentions:\n",
    "                mentioned_user = mentioned_user.lower()\n",
    "                # Crear arista dirigida: autor -> mencionado\n",
    "                if G.has_edge(author, mentioned_user):\n",
    "                    G[author][mentioned_user]['weight'] += 1\n",
    "                else:\n",
    "                    G.add_edge(author, mentioned_user, weight=1)\n",
    "                \n",
    "                mention_pairs.append((author, mentioned_user))\n",
    "    \n",
    "    # Agregar nodos aislados (usuarios que tuitearon pero no mencionaron ni fueron mencionados)\n",
    "    all_users = set(users_in_tweets)\n",
    "    for user in all_users:\n",
    "        if user not in G.nodes():\n",
    "            G.add_node(user)\n",
    "    \n",
    "    print(f\"✅ Red construida:\")\n",
    "    print(f\"   • Nodos (usuarios): {G.number_of_nodes():,}\")\n",
    "    print(f\"   • Aristas (menciones únicas): {G.number_of_edges():,}\")\n",
    "    print(f\"   • Total de menciones: {len(mention_pairs):,}\")\n",
    "    print(f\"   • Menciones únicas: {len(set(mention_pairs)):,}\")\n",
    "    \n",
    "    return G, mention_pairs\n",
    "\n",
    "def analyze_network_topology(G):\n",
    "    \"\"\"\n",
    "    Analiza métricas topológicas fundamentales de la red\n",
    "    \"\"\"\n",
    "    print(f\"\\n📊 ANÁLISIS TOPOLÓGICO DE LA RED\")\n",
    "    print(f\"{'='*50}\")\n",
    "    \n",
    "    # Estadísticas básicas\n",
    "    n_nodes = G.number_of_nodes()\n",
    "    n_edges = G.number_of_edges()\n",
    "    \n",
    "    print(f\"\\n🔍 ESTADÍSTICAS BÁSICAS:\")\n",
    "    print(f\"   • Nodos: {n_nodes:,}\")\n",
    "    print(f\"   • Aristas: {n_edges:,}\")\n",
    "    \n",
    "    # Densidad de la red\n",
    "    if n_nodes > 1:\n",
    "        max_edges = n_nodes * (n_nodes - 1)  # Grafo dirigido\n",
    "        density = n_edges / max_edges\n",
    "        print(f\"   • Densidad: {density:.6f} ({density*100:.4f}%)\")\n",
    "    else:\n",
    "        density = 0\n",
    "        print(f\"   • Densidad: 0 (red con un solo nodo)\")\n",
    "    \n",
    "    # Componentes conectados\n",
    "    # Para grafos dirigidos, analizamos componentes débilmente conectados\n",
    "    weak_components = list(nx.weakly_connected_components(G))\n",
    "    strong_components = list(nx.strongly_connected_components(G))\n",
    "    \n",
    "    print(f\"\\n🔗 CONECTIVIDAD:\")\n",
    "    print(f\"   • Componentes débilmente conectados: {len(weak_components)}\")\n",
    "    print(f\"   • Componentes fuertemente conectados: {len(strong_components)}\")\n",
    "    \n",
    "    # Componente gigante (más grande débilmente conectado)\n",
    "    if weak_components:\n",
    "        giant_component = max(weak_components, key=len)\n",
    "        print(f\"   • Tamaño del componente gigante: {len(giant_component)} ({len(giant_component)/n_nodes*100:.1f}%)\")\n",
    "        \n",
    "        # Crear subgrafo del componente gigante para análisis adicional\n",
    "        G_giant = G.subgraph(giant_component).copy()\n",
    "    else:\n",
    "        G_giant = G.copy()\n",
    "        giant_component = set(G.nodes())\n",
    "    \n",
    "    # Análisis del componente gigante\n",
    "    print(f\"\\n🌐 ANÁLISIS DEL COMPONENTE GIGANTE:\")\n",
    "    \n",
    "    # Convertir a grafo no dirigido para métricas específicas\n",
    "    G_undirected = G_giant.to_undirected()\n",
    "    \n",
    "    # Coeficiente de clustering (transitivity)\n",
    "    if len(G_giant.nodes()) > 0:\n",
    "        clustering_coeff = nx.average_clustering(G_undirected)\n",
    "        transitivity = nx.transitivity(G_undirected)\n",
    "        print(f\"   • Coeficiente de clustering promedio: {clustering_coeff:.4f}\")\n",
    "        print(f\"   • Transitividad global: {transitivity:.4f}\")\n",
    "    \n",
    "    # Diámetro y caminos más cortos (solo para componente conectado)\n",
    "    if nx.is_connected(G_undirected) and len(G_undirected.nodes()) > 1:\n",
    "        diameter = nx.diameter(G_undirected)\n",
    "        avg_path_length = nx.average_shortest_path_length(G_undirected)\n",
    "        print(f\"   • Diámetro: {diameter}\")\n",
    "        print(f\"   • Longitud promedio de camino más corto: {avg_path_length:.3f}\")\n",
    "    else:\n",
    "        print(f\"   • Diámetro: No calculable (red no conectada)\")\n",
    "        print(f\"   • Longitud promedio: No calculable (red no conectada)\")\n",
    "    \n",
    "    # Distribución de grados\n",
    "    print(f\"\\n📈 DISTRIBUCIÓN DE GRADOS:\")\n",
    "    \n",
    "    # Grados de entrada (in-degree)\n",
    "    in_degrees = dict(G.in_degree())\n",
    "    out_degrees = dict(G.out_degree())\n",
    "    total_degrees = dict(G_undirected.degree())\n",
    "    \n",
    "    # Estadísticas de grados\n",
    "    in_deg_values = list(in_degrees.values())\n",
    "    out_deg_values = list(out_degrees.values())\n",
    "    total_deg_values = list(total_degrees.values())\n",
    "    \n",
    "    print(f\"   • Grado de entrada promedio: {np.mean(in_deg_values):.2f}\")\n",
    "    print(f\"   • Grado de salida promedio: {np.mean(out_deg_values):.2f}\")\n",
    "    print(f\"   • Grado total promedio: {np.mean(total_deg_values):.2f}\")\n",
    "    print(f\"   • Grado máximo (entrada): {max(in_deg_values) if in_deg_values else 0}\")\n",
    "    print(f\"   • Grado máximo (salida): {max(out_deg_values) if out_deg_values else 0}\")\n",
    "    \n",
    "    # Nodos con mayor grado\n",
    "    print(f\"\\n🔝 TOP NODOS POR GRADO:\")\n",
    "    \n",
    "    # Top por grado de entrada (más mencionados)\n",
    "    top_in_degree = sorted(in_degrees.items(), key=lambda x: x[1], reverse=True)[:10]\n",
    "    print(f\"   📥 Más mencionados (in-degree):\")\n",
    "    for i, (node, degree) in enumerate(top_in_degree, 1):\n",
    "        print(f\"      {i:2d}. @{node:20} → {degree:3d} menciones\")\n",
    "    \n",
    "    # Top por grado de salida (más activos mencionando)\n",
    "    top_out_degree = sorted(out_degrees.items(), key=lambda x: x[1], reverse=True)[:10]\n",
    "    print(f\"   📤 Más activos mencionando (out-degree):\")\n",
    "    for i, (node, degree) in enumerate(top_out_degree, 1):\n",
    "        print(f\"      {i:2d}. @{node:20} → {degree:3d} menciones hechas\")\n",
    "    \n",
    "    return {\n",
    "        'n_nodes': n_nodes,\n",
    "        'n_edges': n_edges,\n",
    "        'density': density,\n",
    "        'weak_components': len(weak_components),\n",
    "        'strong_components': len(strong_components),\n",
    "        'giant_component_size': len(giant_component),\n",
    "        'clustering_coeff': clustering_coeff if len(G_giant.nodes()) > 0 else 0,\n",
    "        'transitivity': transitivity if len(G_giant.nodes()) > 0 else 0,\n",
    "        'in_degrees': in_degrees,\n",
    "        'out_degrees': out_degrees,\n",
    "        'G_giant': G_giant\n",
    "    }\n",
    "\n",
    "def create_network_visualizations(G, analysis_results, top_n=50):\n",
    "    \"\"\"\n",
    "    Crear visualizaciones interactivas de la red\n",
    "    \"\"\"\n",
    "    print(f\"\\n🎨 Generando visualizaciones de la red...\")\n",
    "    \n",
    "    # Tomar solo los top N nodos más conectados para visualización\n",
    "    total_degrees = {node: G.in_degree(node) + G.out_degree(node) for node in G.nodes()}\n",
    "    top_nodes = sorted(total_degrees.items(), key=lambda x: x[1], reverse=True)[:top_n]\n",
    "    top_node_names = [node for node, degree in top_nodes]\n",
    "    \n",
    "    # Crear subgrafo con solo los nodos top\n",
    "    G_viz = G.subgraph(top_node_names).copy()\n",
    "    \n",
    "    print(f\"   📊 Visualizando top {len(G_viz.nodes())} nodos más conectados\")\n",
    "    \n",
    "    # Layout de la red usando spring layout\n",
    "    pos = nx.spring_layout(G_viz, k=3, iterations=50, seed=42)\n",
    "    \n",
    "    # Preparar datos para Plotly\n",
    "    node_trace = go.Scatter(\n",
    "        x=[pos[node][0] for node in G_viz.nodes()],\n",
    "        y=[pos[node][1] for node in G_viz.nodes()],\n",
    "        mode='markers+text',\n",
    "        text=[f\"@{node}\" for node in G_viz.nodes()],\n",
    "        textposition=\"middle center\",\n",
    "        textfont=dict(size=8),\n",
    "        marker=dict(\n",
    "            size=[10 + total_degrees[node]*0.5 for node in G_viz.nodes()],\n",
    "            color=[total_degrees[node] for node in G_viz.nodes()],\n",
    "            colorscale='Viridis',\n",
    "            showscale=True,\n",
    "            colorbar=dict(title=\"Grado Total\"),\n",
    "            line=dict(width=2, color='white')\n",
    "        ),\n",
    "        hovertemplate='<b>@%{text}</b><br>' +\n",
    "                     'Grado total: %{marker.color}<br>' +\n",
    "                     'Menciones recibidas: %{customdata[0]}<br>' +\n",
    "                     'Menciones hechas: %{customdata[1]}<extra></extra>',\n",
    "        customdata=[[G.in_degree(node), G.out_degree(node)] for node in G_viz.nodes()],\n",
    "        name='Usuarios'\n",
    "    )\n",
    "    \n",
    "    # Crear aristas\n",
    "    edge_x = []\n",
    "    edge_y = []\n",
    "    edge_weights = []\n",
    "    \n",
    "    for edge in G_viz.edges():\n",
    "        x0, y0 = pos[edge[0]]\n",
    "        x1, y1 = pos[edge[1]]\n",
    "        edge_x.extend([x0, x1, None])\n",
    "        edge_y.extend([y0, y1, None])\n",
    "        edge_weights.append(G_viz[edge[0]][edge[1]].get('weight', 1))\n",
    "    \n",
    "    edge_trace = go.Scatter(\n",
    "        x=edge_x, y=edge_y,\n",
    "        line=dict(width=0.5, color='rgba(125,125,125,0.3)'),\n",
    "        hoverinfo='none',\n",
    "        mode='lines',\n",
    "        name='Menciones'\n",
    "    )\n",
    "    \n",
    "    # Crear figura\n",
    "    fig = go.Figure(data=[edge_trace, node_trace])\n",
    "    fig.update_layout(\n",
    "        title=dict(\n",
    "            text=f'Red de Menciones - Top {len(G_viz.nodes())} Usuarios Más Conectados<br>' +\n",
    "                 f'<sub>Tamaño de nodo = grado total, Color = intensidad de conexiones</sub>',\n",
    "            font=dict(size=16)\n",
    "        ),\n",
    "        showlegend=False,\n",
    "        hovermode='closest',\n",
    "        margin=dict(b=20,l=5,r=5,t=80),\n",
    "        annotations=[ dict(\n",
    "            text=f\"Nodos: {len(G_viz.nodes())}, Aristas: {len(G_viz.edges())}<br>\" +\n",
    "                 f\"Densidad subred: {len(G_viz.edges())/(len(G_viz.nodes())*(len(G_viz.nodes())-1)):.4f}\",\n",
    "            showarrow=False,\n",
    "            xref=\"paper\", yref=\"paper\",\n",
    "            x=0.005, y=-0.002,\n",
    "            xanchor='left', yanchor='bottom',\n",
    "            font=dict(color=\"gray\", size=10)\n",
    "        )],\n",
    "        xaxis=dict(showgrid=False, zeroline=False, showticklabels=False),\n",
    "        yaxis=dict(showgrid=False, zeroline=False, showticklabels=False),\n",
    "        plot_bgcolor='white'\n",
    "    )\n",
    "    \n",
    "    fig.show()\n",
    "    \n",
    "    # Crear gráficos de análisis de distribución\n",
    "    fig_analysis = make_subplots(\n",
    "        rows=2, cols=2,\n",
    "        subplot_titles=('Distribución de Grados de Entrada', \n",
    "                       'Distribución de Grados de Salida',\n",
    "                       'Top 20 Nodos Más Mencionados',\n",
    "                       'Top 20 Nodos Más Activos'),\n",
    "        specs=[[{'secondary_y': False}, {'secondary_y': False}],\n",
    "               [{'secondary_y': False}, {'secondary_y': False}]]\n",
    "    )\n",
    "    \n",
    "    # 2. Distribución grado de salida\n",
    "    out_deg_counts = Counter(analysis_results['out_degrees'].values())\n",
    "    degrees_out = sorted(out_deg_counts.keys())\n",
    "    counts_out = [out_deg_counts[d] for d in degrees_out]\n",
    "    \n",
    "    fig_analysis.add_trace(\n",
    "        go.Bar(x=degrees_out, y=counts_out, name='Out-degree',\n",
    "               marker_color='lightcoral'),\n",
    "        row=1, col=2\n",
    "    )\n",
    "    \n",
    "    # 3. Top mencionados\n",
    "    top_mentioned = sorted(analysis_results['in_degrees'].items(), \n",
    "                          key=lambda x: x[1], reverse=True)[:20]\n",
    "    users_mentioned = [f\"@{user}\" for user, degree in top_mentioned]\n",
    "    degrees_mentioned = [degree for user, degree in top_mentioned]\n",
    "    \n",
    "    fig_analysis.add_trace(\n",
    "        go.Bar(y=users_mentioned, x=degrees_mentioned, orientation='h',\n",
    "               name='Más mencionados', marker_color='green'),\n",
    "        row=2, col=1\n",
    "    )\n",
    "    \n",
    "    # 4. Top activos\n",
    "    top_active = sorted(analysis_results['out_degrees'].items(), \n",
    "                       key=lambda x: x[1], reverse=True)[:20]\n",
    "    users_active = [f\"@{user}\" for user, degree in top_active]\n",
    "    degrees_active = [degree for user, degree in top_active]\n",
    "    \n",
    "    fig_analysis.add_trace(\n",
    "        go.Bar(y=users_active, x=degrees_active, orientation='h',\n",
    "               name='Más activos', marker_color='orange'),\n",
    "        row=2, col=2\n",
    "    )\n",
    "    \n",
    "    # Actualizar layout\n",
    "    fig_analysis.update_layout(\n",
    "        title_text=\"Análisis de Distribución de Grados en la Red\",\n",
    "        title_x=0.5,\n",
    "        height=800,\n",
    "        showlegend=False\n",
    "    )\n",
    "    \n",
    "    fig_analysis.update_xaxes(title_text=\"Grado\", row=1, col=1)\n",
    "    fig_analysis.update_yaxes(title_text=\"Frecuencia\", row=1, col=1)\n",
    "    fig_analysis.update_xaxes(title_text=\"Grado\", row=1, col=2)\n",
    "    fig_analysis.update_yaxes(title_text=\"Frecuencia\", row=1, col=2)\n",
    "    fig_analysis.update_xaxes(title_text=\"Menciones Recibidas\", row=2, col=1)\n",
    "    fig_analysis.update_xaxes(title_text=\"Menciones Realizadas\", row=2, col=2)\n",
    "    \n",
    "    fig_analysis.show()\n",
    "\n",
    "# Construir la red de menciones\n",
    "G, mention_pairs = build_mention_network(traficogt_df)\n",
    "\n",
    "# Analizar topología\n",
    "topology_results = analyze_network_topology(G)\n",
    "\n",
    "# Crear visualizaciones\n",
    "create_network_visualizations(G, topology_results, top_n=50)"
   ]
  }
 ],
 "metadata": {
  "kernelspec": {
   "display_name": "venv",
   "language": "python",
   "name": "python3"
  },
  "language_info": {
   "codemirror_mode": {
    "name": "ipython",
    "version": 3
   },
   "file_extension": ".py",
   "mimetype": "text/x-python",
   "name": "python",
   "nbconvert_exporter": "python",
   "pygments_lexer": "ipython3",
   "version": "3.10.2"
  }
 },
 "nbformat": 4,
 "nbformat_minor": 5
}
